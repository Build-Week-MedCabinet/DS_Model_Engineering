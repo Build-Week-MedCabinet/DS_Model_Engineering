{
 "cells": [
  {
   "cell_type": "markdown",
   "metadata": {},
   "source": [
    "# What's My Weed: Reverse Image Search\n",
    "\n",
    "v0.1 2019-10-22\n",
    "\n",
    ">Get Embeddings via pre-constructed network (ResNet50 or InceptionV3)\n",
    "\n",
    ">Encode image library\n",
    "\n",
    ">Train KDTree\n",
    "\n",
    ">Develop Search Pipe"
   ]
  },
  {
   "cell_type": "code",
   "execution_count": null,
   "metadata": {},
   "outputs": [],
   "source": [
    "from keras.applications.resnet50 import ResNet50\n",
    "from keras.preprocessing import image\n",
    "from keras.applications.resnet50 import preprocess_input\n",
    "import numpy as np\n",
    "from urllib.request import urlopen\n",
    "from PIL import Image\n",
    "\n",
    "model = ResNet50(weights='imagenet', include_top=False)\n",
    "\n",
    "def get_features(url):\n",
    "     try:\n",
    "        img_file = urlopen(url)\n",
    "        im = Image.open(img_file)\n",
    "     except:\n",
    "        output = [0]*(256*256*3)\n",
    "        output = np.array(output).reshape(256,256,3).astype('uint8')\n",
    "        im = Image.fromarray(output).convert('RGB')\n",
    "\n",
    "    im2 = im.resize((224, 224), Image.ANTIALIAS)\n",
    "    x = image.img_to_array(im2)\n",
    "    x = np.expand_dims(x, axis=0)\n",
    "    x = preprocess_input(x)\n",
    "\n",
    "    features = model.predict(x).reshape(1,2048)\n",
    "    return features"
   ]
  },
  {
   "cell_type": "code",
   "execution_count": null,
   "metadata": {},
   "outputs": [],
   "source": []
  }
 ],
 "metadata": {
  "kernelspec": {
   "display_name": "tnf",
   "language": "python",
   "name": "tensorflow"
  },
  "language_info": {
   "codemirror_mode": {
    "name": "ipython",
    "version": 3
   },
   "file_extension": ".py",
   "mimetype": "text/x-python",
   "name": "python",
   "nbconvert_exporter": "python",
   "pygments_lexer": "ipython3",
   "version": "3.7.4"
  }
 },
 "nbformat": 4,
 "nbformat_minor": 2
}
