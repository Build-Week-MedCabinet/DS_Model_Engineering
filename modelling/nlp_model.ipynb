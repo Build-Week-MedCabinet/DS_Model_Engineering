{
 "cells": [
  {
   "cell_type": "markdown",
   "metadata": {},
   "source": [
    "# NLP Vectorizer and Model\n",
    "\n",
    "This model and vectorizer are built to interact with the textual data in master dataset.  This notebook contains functions to pre-process data, train the search algorithm, and export pipelines as .pkl or similar files.\n",
    "\n",
    "**Note** Deployment of large spacy models to heroku is not advised.  See the following libraries for implementation in web application\n",
    "\n",
    ">See: nlp_model.py for function imports to integrate with web application"
   ]
  },
  {
   "cell_type": "markdown",
   "metadata": {},
   "source": [
    "## Data PreProcessing"
   ]
  },
  {
   "cell_type": "code",
   "execution_count": 2,
   "metadata": {},
   "outputs": [
    {
     "data": {
      "text/html": [
       "<div>\n",
       "<style scoped>\n",
       "    .dataframe tbody tr th:only-of-type {\n",
       "        vertical-align: middle;\n",
       "    }\n",
       "\n",
       "    .dataframe tbody tr th {\n",
       "        vertical-align: top;\n",
       "    }\n",
       "\n",
       "    .dataframe thead th {\n",
       "        text-align: right;\n",
       "    }\n",
       "</style>\n",
       "<table border=\"1\" class=\"dataframe\">\n",
       "  <thead>\n",
       "    <tr style=\"text-align: right;\">\n",
       "      <th></th>\n",
       "      <th>StrainID</th>\n",
       "      <th>Strain</th>\n",
       "      <th>Type</th>\n",
       "      <th>Rating</th>\n",
       "      <th>Effects</th>\n",
       "      <th>Flavor</th>\n",
       "      <th>Description</th>\n",
       "    </tr>\n",
       "  </thead>\n",
       "  <tbody>\n",
       "    <tr>\n",
       "      <th>0</th>\n",
       "      <td>0</td>\n",
       "      <td>100-og</td>\n",
       "      <td>hybrid</td>\n",
       "      <td>4.0</td>\n",
       "      <td>creative,energetic,tingly,euphoric,relaxed</td>\n",
       "      <td>earthy,sweet,citrus</td>\n",
       "      <td>$100 og is a 50/50 hybrid strain that packs a ...</td>\n",
       "    </tr>\n",
       "    <tr>\n",
       "      <th>1</th>\n",
       "      <td>1</td>\n",
       "      <td>98-white-widow</td>\n",
       "      <td>hybrid</td>\n",
       "      <td>4.7</td>\n",
       "      <td>relaxed,aroused,creative,happy,energetic</td>\n",
       "      <td>flowery,violet,diesel</td>\n",
       "      <td>the ‘98 aloha white widow is an especially pot...</td>\n",
       "    </tr>\n",
       "    <tr>\n",
       "      <th>2</th>\n",
       "      <td>2</td>\n",
       "      <td>1024</td>\n",
       "      <td>sativa</td>\n",
       "      <td>4.4</td>\n",
       "      <td>uplifted,happy,relaxed,energetic,creative</td>\n",
       "      <td>spicy/herbal,sage,woody</td>\n",
       "      <td>1024 is a sativa-dominant hybrid bred in spain...</td>\n",
       "    </tr>\n",
       "    <tr>\n",
       "      <th>3</th>\n",
       "      <td>3</td>\n",
       "      <td>13-dawgs</td>\n",
       "      <td>hybrid</td>\n",
       "      <td>4.2</td>\n",
       "      <td>tingly,creative,hungry,relaxed,uplifted</td>\n",
       "      <td>apricot,citrus,grapefruit</td>\n",
       "      <td>13 dawgs is a hybrid of g13 and chemdawg genet...</td>\n",
       "    </tr>\n",
       "    <tr>\n",
       "      <th>4</th>\n",
       "      <td>4</td>\n",
       "      <td>24k-gold</td>\n",
       "      <td>hybrid</td>\n",
       "      <td>4.6</td>\n",
       "      <td>happy,relaxed,euphoric,uplifted,talkative</td>\n",
       "      <td>citrus,earthy,orange</td>\n",
       "      <td>also known as kosher tangie, 24k gold is a 60%...</td>\n",
       "    </tr>\n",
       "  </tbody>\n",
       "</table>\n",
       "</div>"
      ],
      "text/plain": [
       "   StrainID          Strain    Type  Rating  \\\n",
       "0         0          100-og  hybrid     4.0   \n",
       "1         1  98-white-widow  hybrid     4.7   \n",
       "2         2            1024  sativa     4.4   \n",
       "3         3        13-dawgs  hybrid     4.2   \n",
       "4         4        24k-gold  hybrid     4.6   \n",
       "\n",
       "                                      Effects                     Flavor  \\\n",
       "0  creative,energetic,tingly,euphoric,relaxed        earthy,sweet,citrus   \n",
       "1    relaxed,aroused,creative,happy,energetic      flowery,violet,diesel   \n",
       "2   uplifted,happy,relaxed,energetic,creative    spicy/herbal,sage,woody   \n",
       "3     tingly,creative,hungry,relaxed,uplifted  apricot,citrus,grapefruit   \n",
       "4   happy,relaxed,euphoric,uplifted,talkative       citrus,earthy,orange   \n",
       "\n",
       "                                         Description  \n",
       "0  $100 og is a 50/50 hybrid strain that packs a ...  \n",
       "1  the ‘98 aloha white widow is an especially pot...  \n",
       "2  1024 is a sativa-dominant hybrid bred in spain...  \n",
       "3  13 dawgs is a hybrid of g13 and chemdawg genet...  \n",
       "4  also known as kosher tangie, 24k gold is a 60%...  "
      ]
     },
     "execution_count": 2,
     "metadata": {},
     "output_type": "execute_result"
    }
   ],
   "source": [
    "# Load Data\n",
    "import pandas as pd\n",
    "import os\n",
    "\n",
    "data_path = os.path.join(os.getcwd(), 'cannabis_clean_export_03.csv')\n",
    "df = pd.read_csv(data_path)\n",
    "df.head()"
   ]
  },
  {
   "cell_type": "markdown",
   "metadata": {},
   "source": [
    "### Create Mass Text Field\n",
    "\n",
    "Combine all text fields into big field for vectorization"
   ]
  },
  {
   "cell_type": "code",
   "execution_count": 3,
   "metadata": {},
   "outputs": [
    {
     "data": {
      "text/plain": [
       "'100-ogcreative,energetic,tingly,euphoric,relaxedearthy,sweet,citrus$100 og is a 50/50 hybrid strain that packs a strong punch. the name supposedly refers to both its strength and high price when it first started showing up in hollywood. as a plant, $100 og tends to produce large dark green buds with few stems. users report a strong body effect of an indica for pain relief with the more alert, cerebral feeling thanks to its sativa side.'"
      ]
     },
     "execution_count": 3,
     "metadata": {},
     "output_type": "execute_result"
    }
   ],
   "source": [
    "# Create new series with information\n",
    "df['mass_text'] = df.Strain + df.Effects + df.Flavor + df.Description\n",
    "df.mass_text[0]"
   ]
  },
  {
   "cell_type": "markdown",
   "metadata": {},
   "source": [
    "### Tokenize, Clean, Vectorize Text\n",
    "\n",
    "Use Spacy's lightweight english model to tokenize mass_text, remove stop words, and then convert into vector."
   ]
  },
  {
   "cell_type": "code",
   "execution_count": 1,
   "metadata": {},
   "outputs": [],
   "source": [
    "# Load Spacy Model\n",
    "import spacy\n",
    "from spacy.tokens import Doc\n",
    "\n",
    "nlp = spacy.load(\"en_core_web_md\")\n",
    "\n",
    "# Wrap filter/tokenizer\n",
    "def filter_data(func):\n",
    "    def wrapper(text):\n",
    "        return filter_doc(func(text))\n",
    "    return wrapper\n",
    "\n",
    "# Filter on stop_words\n",
    "def filter_doc(doc):\n",
    "    filtered_sentence = []\n",
    "    for word in doc:\n",
    "        lexeme = doc.vocab[word.text]\n",
    "        if lexeme.is_stop == False:\n",
    "            if word.is_punct == False:\n",
    "                filtered_sentence.append(word.text)\n",
    "#     return filtered_sentence  #  Use to return a list of strings\n",
    "#     return ' '.join(filtered_sentence)  # Use to return a single string with stop words, punctuation removed\n",
    "    return Doc(nlp.vocab, filtered_sentence,[True]*len(filtered_sentence))  # Use to return a spacy.tokens.Doc\n",
    "\n",
    "\n",
    "# Helper functions\n",
    "\n",
    "# upgraded versions (TODO errors with finding spacy model in parallel process IPython)\n",
    "@filter_data\n",
    "def tokenize_text(text):\n",
    "    return nlp(text)"
   ]
  },
  {
   "cell_type": "code",
   "execution_count": 4,
   "metadata": {},
   "outputs": [
    {
     "data": {
      "text/plain": [
       "sample text greatness "
      ]
     },
     "metadata": {},
     "output_type": "display_data"
    },
    {
     "data": {
      "text/plain": [
       "spacy.tokens.doc.Doc"
      ]
     },
     "metadata": {},
     "output_type": "display_data"
    }
   ],
   "source": [
    "# Example tokenizer use:\n",
    "\n",
    "sample_string = 'A sample of text is the greatness of all'\n",
    "\n",
    "example = tokenize_text(sample_string)\n",
    "\n",
    "display(example, type(example))"
   ]
  },
  {
   "cell_type": "code",
   "execution_count": 5,
   "metadata": {},
   "outputs": [
    {
     "data": {
      "text/plain": [
       "0    (100-ogcreative, energetic, tingly, euphoric, ...\n",
       "1    (98-white, widowrelaxed, aroused, creative, ha...\n",
       "Name: mass_text, dtype: object"
      ]
     },
     "execution_count": 5,
     "metadata": {},
     "output_type": "execute_result"
    }
   ],
   "source": [
    "# Apply tokenizer to mass_text\n",
    "df.mass_text  = df.mass_text.apply(tokenize_text)\n",
    "df.mass_text[0:2]"
   ]
  },
  {
   "cell_type": "code",
   "execution_count": 114,
   "metadata": {},
   "outputs": [],
   "source": [
    "# Extract vectors from each Doc (mass_text description)\n",
    "\n",
    "def get_vector_from_doc(x):\n",
    "    return x.vector\n",
    "\n",
    "df['mass_vector'] = df.mass_text.apply(get_vector_from_doc)"
   ]
  },
  {
   "cell_type": "code",
   "execution_count": 118,
   "metadata": {},
   "outputs": [
    {
     "data": {
      "text/plain": [
       "(2273, 300)"
      ]
     },
     "execution_count": 118,
     "metadata": {},
     "output_type": "execute_result"
    }
   ],
   "source": [
    "import numpy as np\n",
    "\n",
    "vectors = df.mass_vector.apply(pd.Series)\n",
    "\n",
    "vectors.shape"
   ]
  },
  {
   "cell_type": "markdown",
   "metadata": {},
   "source": [
    "## Building Model\n",
    "\n",
    "Implementation of KDTree to create search rankings"
   ]
  },
  {
   "cell_type": "code",
   "execution_count": 123,
   "metadata": {},
   "outputs": [
    {
     "data": {
      "text/plain": [
       "<sklearn.neighbors.kd_tree.KDTree at 0x55c94a47c0d8>"
      ]
     },
     "execution_count": 123,
     "metadata": {},
     "output_type": "execute_result"
    }
   ],
   "source": [
    "# Create Tree\n",
    "from sklearn.neighbors import KDTree\n",
    "\n",
    "kdtree = KDTree(vectors, leaf_size=2)\n",
    "kdtree"
   ]
  },
  {
   "cell_type": "code",
   "execution_count": 153,
   "metadata": {},
   "outputs": [
    {
     "data": {
      "text/plain": [
       "(1, 300)"
      ]
     },
     "execution_count": 153,
     "metadata": {},
     "output_type": "execute_result"
    }
   ],
   "source": [
    "# Test Tree Search\n",
    "\n",
    "dist, ind = kdtree.query(vectors[:1], k=3)\n",
    "vectors[:1].shape"
   ]
  },
  {
   "cell_type": "code",
   "execution_count": 141,
   "metadata": {},
   "outputs": [
    {
     "data": {
      "text/plain": [
       "array([[   0,  374, 1996]])"
      ]
     },
     "metadata": {},
     "output_type": "display_data"
    },
    {
     "data": {
      "text/plain": [
       "array([[0.        , 0.88292231, 0.88879175]])"
      ]
     },
     "metadata": {},
     "output_type": "display_data"
    }
   ],
   "source": [
    "display(ind, dist)"
   ]
  },
  {
   "cell_type": "markdown",
   "metadata": {},
   "source": [
    "#### Testing Outputs and index matchup"
   ]
  },
  {
   "cell_type": "code",
   "execution_count": 146,
   "metadata": {},
   "outputs": [
    {
     "data": {
      "text/plain": [
       "'100-ogcreative energetic tingly euphoric relaxedearthy sweet citrus$100 og \\n50/50 hybrid strain packs strong punch supposedly refers strength high price started showing \\nhollywood plant $ 100 og tends produce large dark green buds stems users report strong body effect \\nndica pain relief alert cerebral feeling thanks sativa'"
      ]
     },
     "metadata": {},
     "output_type": "display_data"
    }
   ],
   "source": [
    "# Create false query from first \n",
    "\n",
    "test_string = \"\"\"100-ogcreative energetic tingly euphoric relaxedearthy sweet citrus$100 og \n",
    "50/50 hybrid strain packs strong punch supposedly refers strength high price started showing \n",
    "hollywood plant $ 100 og tends produce large dark green buds stems users report strong body effect \n",
    "ndica pain relief alert cerebral feeling thanks sativa\"\"\" \n",
    "display(test_string)"
   ]
  },
  {
   "cell_type": "code",
   "execution_count": 160,
   "metadata": {},
   "outputs": [
    {
     "data": {
      "text/plain": [
       "(1, 300)"
      ]
     },
     "execution_count": 160,
     "metadata": {},
     "output_type": "execute_result"
    }
   ],
   "source": [
    "# Example vectorization pipeline\n",
    "\n",
    "input_vector = get_vector_from_doc(\n",
    "    tokenize_text(test_string)\n",
    ")\n",
    "\n",
    "# input_vector = pd.Series(input_vector).to_numpy().reshape(1,-1)\n",
    "input_vector = input_vector.reshape(1,-1)\n",
    "input_vector.shape"
   ]
  },
  {
   "cell_type": "code",
   "execution_count": 161,
   "metadata": {},
   "outputs": [
    {
     "data": {
      "text/plain": [
       "array([[   0,  374, 1996, 1449,  390]])"
      ]
     },
     "metadata": {},
     "output_type": "display_data"
    },
    {
     "data": {
      "text/plain": [
       "array([[0.27035835, 0.85993068, 0.89083888, 0.90266355, 0.90718331]])"
      ]
     },
     "metadata": {},
     "output_type": "display_data"
    }
   ],
   "source": [
    "# Search Tree for x number of nearest matches\n",
    "\n",
    "num_matches = 5\n",
    "\n",
    "dist, ind = kdtree.query(input_vector, k=num_matches)\n",
    "\n",
    "display(ind, dist)"
   ]
  },
  {
   "cell_type": "code",
   "execution_count": 169,
   "metadata": {},
   "outputs": [
    {
     "data": {
      "text/html": [
       "<div>\n",
       "<style scoped>\n",
       "    .dataframe tbody tr th:only-of-type {\n",
       "        vertical-align: middle;\n",
       "    }\n",
       "\n",
       "    .dataframe tbody tr th {\n",
       "        vertical-align: top;\n",
       "    }\n",
       "\n",
       "    .dataframe thead th {\n",
       "        text-align: right;\n",
       "    }\n",
       "</style>\n",
       "<table border=\"1\" class=\"dataframe\">\n",
       "  <thead>\n",
       "    <tr style=\"text-align: right;\">\n",
       "      <th></th>\n",
       "      <th>StrainID</th>\n",
       "      <th>Effects</th>\n",
       "      <th>Flavor</th>\n",
       "      <th>Description</th>\n",
       "    </tr>\n",
       "  </thead>\n",
       "  <tbody>\n",
       "    <tr>\n",
       "      <th>0</th>\n",
       "      <td>0</td>\n",
       "      <td>creative,energetic,tingly,euphoric,relaxed</td>\n",
       "      <td>earthy,sweet,citrus</td>\n",
       "      <td>$100 og is a 50/50 hybrid strain that packs a ...</td>\n",
       "    </tr>\n",
       "    <tr>\n",
       "      <th>374</th>\n",
       "      <td>374</td>\n",
       "      <td>happy,euphoric,relaxed,uplifted,creative</td>\n",
       "      <td>earthy,diesel,pungent</td>\n",
       "      <td>bruce banner might be best known as the alter-...</td>\n",
       "    </tr>\n",
       "    <tr>\n",
       "      <th>1996</th>\n",
       "      <td>1996</td>\n",
       "      <td>happy,relaxed,sleepy,euphoric,giggly</td>\n",
       "      <td>earthy,woody,spicy/herbal</td>\n",
       "      <td>nirvana seeds created supergirl by backcrossin...</td>\n",
       "    </tr>\n",
       "    <tr>\n",
       "      <th>1449</th>\n",
       "      <td>1449</td>\n",
       "      <td>energetic,happy,uplifted,euphoric,talkative</td>\n",
       "      <td>citrus,flowery,tea</td>\n",
       "      <td>oca’s cloud 9 is a phenotype of the mysterious...</td>\n",
       "    </tr>\n",
       "    <tr>\n",
       "      <th>390</th>\n",
       "      <td>390</td>\n",
       "      <td>happy,focused,aroused,talkative,uplifted</td>\n",
       "      <td>pepper,mint,blueberry</td>\n",
       "      <td>bubblegun is a hybrid strain whose name plays ...</td>\n",
       "    </tr>\n",
       "  </tbody>\n",
       "</table>\n",
       "</div>"
      ],
      "text/plain": [
       "      StrainID                                      Effects  \\\n",
       "0            0   creative,energetic,tingly,euphoric,relaxed   \n",
       "374        374     happy,euphoric,relaxed,uplifted,creative   \n",
       "1996      1996         happy,relaxed,sleepy,euphoric,giggly   \n",
       "1449      1449  energetic,happy,uplifted,euphoric,talkative   \n",
       "390        390     happy,focused,aroused,talkative,uplifted   \n",
       "\n",
       "                         Flavor  \\\n",
       "0           earthy,sweet,citrus   \n",
       "374       earthy,diesel,pungent   \n",
       "1996  earthy,woody,spicy/herbal   \n",
       "1449         citrus,flowery,tea   \n",
       "390       pepper,mint,blueberry   \n",
       "\n",
       "                                            Description  \n",
       "0     $100 og is a 50/50 hybrid strain that packs a ...  \n",
       "374   bruce banner might be best known as the alter-...  \n",
       "1996  nirvana seeds created supergirl by backcrossin...  \n",
       "1449  oca’s cloud 9 is a phenotype of the mysterious...  \n",
       "390   bubblegun is a hybrid strain whose name plays ...  "
      ]
     },
     "execution_count": 169,
     "metadata": {},
     "output_type": "execute_result"
    }
   ],
   "source": [
    "# Convert to train information\n",
    "\n",
    "response = df[['StrainID', 'Effects', 'Flavor', 'Description']].iloc[ind[0]]\n",
    "response"
   ]
  },
  {
   "cell_type": "code",
   "execution_count": 171,
   "metadata": {},
   "outputs": [
    {
     "data": {
      "text/plain": [
       "'[{\"StrainID\":0,\"Effects\":\"creative,energetic,tingly,euphoric,relaxed\",\"Flavor\":\"earthy,sweet,citrus\",\"Description\":\"$100 og is a 50\\\\/50 hybrid strain that packs a strong punch. the name supposedly refers to both its strength and high price when it first started showing up in hollywood. as a plant, $100 og tends to produce large dark green buds with few stems. users report a strong body effect of an indica for pain relief with the more alert, cerebral feeling thanks to its sativa side.\"},{\"StrainID\":374,\"Effects\":\"happy,euphoric,relaxed,uplifted,creative\",\"Flavor\":\"earthy,diesel,pungent\",\"Description\":\"bruce banner might be best known as the alter-ego of comic book hero the incredible hulk, but maybe he wouldn\\\\u2019t be such a stressed out ball of anger if he just had some of his namesake strain. this green monster also has hidden strength and features dense nugs that pack the power of very high thc content. it\\\\u2019s a powerful strain whose effects come on quickly and strong and then tend to settle into a euphoric and creative buzz. the sativa effects of this strain are most evident and linger mostly in the head, but it does also provide body relaxation and pain relief that make it an appropriate daytime medication for some. dark horse genetics bred this strain from og kush and strawberry diesel, and its heritage can be found in its diesel aroma with sweet undertones. plants flower at 8 to 10 weeks. this strain does have three main phenotypes, one of which is bruce banner #3.\"},{\"StrainID\":1996,\"Effects\":\"happy,relaxed,sleepy,euphoric,giggly\",\"Flavor\":\"earthy,woody,spicy\\\\/herbal\",\"Description\":\"nirvana seeds created supergirl by backcrossing the famous skunk #1 and focusing on the indica portion of that strain\\\\u2019s genetics. this 80% indica produces large rock-hard buds, tons of resin, and a strong, skunky and coffee odor. although containing a relatively mild thc content between 8% and 15%, the high is fast and hard-hitting, leaving the user fully relaxed and unable to focus. a good choice for treating insomnia, supergirl has sedating effects that help your eyes ease shut.\"},{\"StrainID\":1449,\"Effects\":\"energetic,happy,uplifted,euphoric,talkative\",\"Flavor\":\"citrus,flowery,tea\",\"Description\":\"oca\\\\u2019s cloud 9 is a phenotype of the mysterious brazilian landrace strain known as borderliner. though the flowers don\\\\u2019t have a pronounced odor, just a slightly sweet smell, they pack a serious punch, some testing at over 30% thc. and while borderliner is noted for having a heavy, indica-like effect, oca\\\\u2019s cloud 9 gives users an energizing and uplifting high that is good for combating depression and anxiety while also offering excellent pain relief. keep in mind this strain is different from cloud 9 by kiwiseeds and dampkring classics.\"},{\"StrainID\":390,\"Effects\":\"happy,focused,aroused,talkative,uplifted\",\"Flavor\":\"pepper,mint,blueberry\",\"Description\":\"bubblegun is a hybrid strain whose name plays homage to its genetics\\\\u2014it\\\\u2019s a slightly indica-dominant cross of bubble gum and ak-47. good for treating insomnia and pain, this balanced hybrid starts off with uplifting effects that bring strong pain relief and sedation properties. as plants, bubblegun shows off its indica side by staying short and flowering in 8 to 9 weeks. flowers will be compact and give off a sugary bubble gum aroma. this strain is also popular for those looking to boost their appetite.\"}]'"
      ]
     },
     "execution_count": 171,
     "metadata": {},
     "output_type": "execute_result"
    }
   ],
   "source": [
    "# Example conversion to JSON\n",
    "\n",
    "response.to_json(orient='records')"
   ]
  },
  {
   "cell_type": "markdown",
   "metadata": {},
   "source": [
    "## Export Model\n",
    "\n",
    "**Vectorizer and input transformation NOT INCLUDED** in this export.  Re-implementation of Spacy tokenizer and pandas/numpy transforms can be found in nlp_model.py"
   ]
  },
  {
   "cell_type": "code",
   "execution_count": 172,
   "metadata": {},
   "outputs": [],
   "source": [
    "import pickle\n",
    "\n",
    "with open('kdtree_model.pkl', 'wb') as f:\n",
    "    pickle.dump(kdtree, f)"
   ]
  },
  {
   "cell_type": "code",
   "execution_count": null,
   "metadata": {},
   "outputs": [],
   "source": []
  }
 ],
 "metadata": {
  "kernelspec": {
   "display_name": "Python(nlp)",
   "language": "python",
   "name": "nlpenv"
  },
  "language_info": {
   "codemirror_mode": {
    "name": "ipython",
    "version": 3
   },
   "file_extension": ".py",
   "mimetype": "text/x-python",
   "name": "python",
   "nbconvert_exporter": "python",
   "pygments_lexer": "ipython3",
   "version": "3.7.3"
  }
 },
 "nbformat": 4,
 "nbformat_minor": 2
}
