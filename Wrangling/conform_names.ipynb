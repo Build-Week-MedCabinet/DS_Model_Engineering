{
 "cells": [
  {
   "cell_type": "code",
   "execution_count": 16,
   "metadata": {},
   "outputs": [],
   "source": [
    "import pandas as pd\n",
    "import re"
   ]
  },
  {
   "cell_type": "code",
   "execution_count": 17,
   "metadata": {},
   "outputs": [],
   "source": [
    "def conform_names(name):\n",
    "    \"\"\"Standardize names of strains across data sets\"\"\"\n",
    "    \n",
    "    # change any upper case letters to lower case\n",
    "    name = name.lower()\n",
    "    \n",
    "    # strip out text enclosed in brackets, parantheses, or quotes\n",
    "    brackets = r'[\\[({<].*?[\\])}>]'\n",
    "    name = re.sub(brackets, '', name)\n",
    "    \n",
    "    # remove characters that are not letters, numbers, spaces, hyphens, or underscores\n",
    "    drop = r'[^a-z0-9 _-]'\n",
    "    name = re.sub(drop, '', name)\n",
    "    \n",
    "    # replace hyphens and underscores with spaces\n",
    "    name = re.sub(r'[_-]', ' ', name)\n",
    "    \n",
    "    # split string on spaces and rejoin with hypens\n",
    "    name = '-'.join(name.split())\n",
    "    \n",
    "    return name\n",
    "    \n",
    "    "
   ]
  },
  {
   "cell_type": "markdown",
   "metadata": {},
   "source": [
    "### conform and rename the strain name column"
   ]
  },
  {
   "cell_type": "code",
   "execution_count": 18,
   "metadata": {},
   "outputs": [],
   "source": [
    "kag = pd.read_csv('./raw_data/kaggle_cannabis_raw.csv')\n",
    "kag['Strain'] = kag['Strain'].apply(conform_names)\n",
    "kag.rename(columns={'Strain': 'strain'})\n",
    "kag.to_csv('./Intermediate_data/cannabis_kaggle_rename.csv', index=False)"
   ]
  },
  {
   "cell_type": "code",
   "execution_count": 19,
   "metadata": {},
   "outputs": [],
   "source": [
    "allbuds = pd.read_csv('./web_scrapers/scrapy_morereviews_images/allbuds_strain_data.csv', index_col=0)\n",
    "allbuds['strain_name'] = allbuds['strain_name'].apply(conform_names)\n",
    "allbuds.rename(columns={'strain_name': 'strain'})\n",
    "allbuds.to_csv('./Intermediate_data/allbuds_strain_data_rename.csv', index=False)"
   ]
  },
  {
   "cell_type": "code",
   "execution_count": null,
   "metadata": {},
   "outputs": [],
   "source": []
  }
 ],
 "metadata": {
  "kernelspec": {
   "display_name": "Python 3",
   "language": "python",
   "name": "python3"
  },
  "language_info": {
   "codemirror_mode": {
    "name": "ipython",
    "version": 3
   },
   "file_extension": ".py",
   "mimetype": "text/x-python",
   "name": "python",
   "nbconvert_exporter": "python",
   "pygments_lexer": "ipython3",
   "version": "3.7.4"
  }
 },
 "nbformat": 4,
 "nbformat_minor": 4
}
