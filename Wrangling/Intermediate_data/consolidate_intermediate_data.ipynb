{
 "cells": [
  {
   "cell_type": "code",
   "execution_count": 1,
   "metadata": {},
   "outputs": [],
   "source": [
    "import pandas as pd"
   ]
  },
  {
   "cell_type": "code",
   "execution_count": 2,
   "metadata": {},
   "outputs": [
    {
     "name": "stdout",
     "output_type": "stream",
     "text": [
      "/Users/ezb/Lambda/DS_Model_Engineering/Wrangling/Intermediate_data\r\n"
     ]
    }
   ],
   "source": [
    "!pwd"
   ]
  },
  {
   "cell_type": "code",
   "execution_count": 3,
   "metadata": {},
   "outputs": [],
   "source": [
    "# import datasets\n",
    "allbuds = pd.read_csv('allbuds_strain_data_rename.csv')\n",
    "kaggle = pd.read_csv('cannabis_kaggle_rename.csv')"
   ]
  },
  {
   "cell_type": "code",
   "execution_count": 4,
   "metadata": {},
   "outputs": [
    {
     "name": "stdout",
     "output_type": "stream",
     "text": [
      "(5449, 8)\n"
     ]
    },
    {
     "data": {
      "text/html": [
       "<div>\n",
       "<style scoped>\n",
       "    .dataframe tbody tr th:only-of-type {\n",
       "        vertical-align: middle;\n",
       "    }\n",
       "\n",
       "    .dataframe tbody tr th {\n",
       "        vertical-align: top;\n",
       "    }\n",
       "\n",
       "    .dataframe thead th {\n",
       "        text-align: right;\n",
       "    }\n",
       "</style>\n",
       "<table border=\"1\" class=\"dataframe\">\n",
       "  <thead>\n",
       "    <tr style=\"text-align: right;\">\n",
       "      <th></th>\n",
       "      <th>strain_name</th>\n",
       "      <th>strain_desc</th>\n",
       "      <th>strain_type</th>\n",
       "      <th>strain_percent_indica</th>\n",
       "      <th>strain_percent_sativa</th>\n",
       "      <th>strain_thc_percent</th>\n",
       "      <th>strain_flavors</th>\n",
       "      <th>strain_effects</th>\n",
       "    </tr>\n",
       "  </thead>\n",
       "  <tbody>\n",
       "    <tr>\n",
       "      <th>0</th>\n",
       "      <td>sugar-cane</td>\n",
       "      <td>Sugar Cane is a rare slightly sativa dominant ...</td>\n",
       "      <td>Sativa Dominant Hybrid</td>\n",
       "      <td>40% Indica</td>\n",
       "      <td>60% Sativa</td>\n",
       "      <td>20.0</td>\n",
       "      <td>Earthy Sweet Candy Grape Spicy Fruity Herbal P...</td>\n",
       "      <td>Body High Cerebral Creative Energizing Relaxin...</td>\n",
       "    </tr>\n",
       "    <tr>\n",
       "      <th>1</th>\n",
       "      <td>mac1</td>\n",
       "      <td>MAC 1, also known as “Miracle Alien Cookies X1...</td>\n",
       "      <td>Hybrid</td>\n",
       "      <td>50% Indica</td>\n",
       "      <td>50% Sativa</td>\n",
       "      <td>21.5</td>\n",
       "      <td>Sweet Diesel Sour Spicy Herbal Pungent</td>\n",
       "      <td>Creative Euphoria Happy Motivation Relaxing Up...</td>\n",
       "    </tr>\n",
       "    <tr>\n",
       "      <th>2</th>\n",
       "      <td>chemdawg</td>\n",
       "      <td>With a near-even balance between sativa and in...</td>\n",
       "      <td>Indica Dominant Hybrid</td>\n",
       "      <td>55% Indica</td>\n",
       "      <td>45% Sativa</td>\n",
       "      <td>19.0</td>\n",
       "      <td>Earthy Pungent Chemical Diesel Pine</td>\n",
       "      <td>Cerebral Creative Euphoria Happy Relaxing Cere...</td>\n",
       "    </tr>\n",
       "    <tr>\n",
       "      <th>3</th>\n",
       "      <td>jack-herer</td>\n",
       "      <td>Jack Herer is easily one of the best-known str...</td>\n",
       "      <td>Sativa</td>\n",
       "      <td>NaN</td>\n",
       "      <td>NaN</td>\n",
       "      <td>23.0</td>\n",
       "      <td>Earthy Sweet Spicy Herbal Lemon Pine Woody</td>\n",
       "      <td>Body High Cerebral Creative Euphoria Happy Bod...</td>\n",
       "    </tr>\n",
       "    <tr>\n",
       "      <th>4</th>\n",
       "      <td>nerds</td>\n",
       "      <td>Nerds, also known as “Nerdz,” is an evenly bal...</td>\n",
       "      <td>Hybrid</td>\n",
       "      <td>50% Indica</td>\n",
       "      <td>50% Sativa</td>\n",
       "      <td>15.5</td>\n",
       "      <td>Earthy Sweet Grape Spicy Herbal Fruity Berry W...</td>\n",
       "      <td>Cerebral Creative Euphoria Focus Relaxing Cere...</td>\n",
       "    </tr>\n",
       "  </tbody>\n",
       "</table>\n",
       "</div>"
      ],
      "text/plain": [
       "  strain_name                                        strain_desc  \\\n",
       "0  sugar-cane  Sugar Cane is a rare slightly sativa dominant ...   \n",
       "1        mac1  MAC 1, also known as “Miracle Alien Cookies X1...   \n",
       "2    chemdawg  With a near-even balance between sativa and in...   \n",
       "3  jack-herer  Jack Herer is easily one of the best-known str...   \n",
       "4       nerds  Nerds, also known as “Nerdz,” is an evenly bal...   \n",
       "\n",
       "              strain_type strain_percent_indica strain_percent_sativa  \\\n",
       "0  Sativa Dominant Hybrid            40% Indica            60% Sativa   \n",
       "1                  Hybrid            50% Indica            50% Sativa   \n",
       "2  Indica Dominant Hybrid            55% Indica            45% Sativa   \n",
       "3                  Sativa                   NaN                   NaN   \n",
       "4                  Hybrid            50% Indica            50% Sativa   \n",
       "\n",
       "   strain_thc_percent                                     strain_flavors  \\\n",
       "0                20.0  Earthy Sweet Candy Grape Spicy Fruity Herbal P...   \n",
       "1                21.5             Sweet Diesel Sour Spicy Herbal Pungent   \n",
       "2                19.0                Earthy Pungent Chemical Diesel Pine   \n",
       "3                23.0         Earthy Sweet Spicy Herbal Lemon Pine Woody   \n",
       "4                15.5  Earthy Sweet Grape Spicy Herbal Fruity Berry W...   \n",
       "\n",
       "                                      strain_effects  \n",
       "0  Body High Cerebral Creative Energizing Relaxin...  \n",
       "1  Creative Euphoria Happy Motivation Relaxing Up...  \n",
       "2  Cerebral Creative Euphoria Happy Relaxing Cere...  \n",
       "3  Body High Cerebral Creative Euphoria Happy Bod...  \n",
       "4  Cerebral Creative Euphoria Focus Relaxing Cere...  "
      ]
     },
     "execution_count": 4,
     "metadata": {},
     "output_type": "execute_result"
    }
   ],
   "source": [
    "print(allbuds.shape)\n",
    "allbuds.head()"
   ]
  },
  {
   "cell_type": "code",
   "execution_count": 5,
   "metadata": {},
   "outputs": [
    {
     "name": "stdout",
     "output_type": "stream",
     "text": [
      "(2351, 6)\n"
     ]
    },
    {
     "data": {
      "text/html": [
       "<div>\n",
       "<style scoped>\n",
       "    .dataframe tbody tr th:only-of-type {\n",
       "        vertical-align: middle;\n",
       "    }\n",
       "\n",
       "    .dataframe tbody tr th {\n",
       "        vertical-align: top;\n",
       "    }\n",
       "\n",
       "    .dataframe thead th {\n",
       "        text-align: right;\n",
       "    }\n",
       "</style>\n",
       "<table border=\"1\" class=\"dataframe\">\n",
       "  <thead>\n",
       "    <tr style=\"text-align: right;\">\n",
       "      <th></th>\n",
       "      <th>Strain</th>\n",
       "      <th>Type</th>\n",
       "      <th>Rating</th>\n",
       "      <th>Effects</th>\n",
       "      <th>Flavor</th>\n",
       "      <th>Description</th>\n",
       "    </tr>\n",
       "  </thead>\n",
       "  <tbody>\n",
       "    <tr>\n",
       "      <th>0</th>\n",
       "      <td>100-og</td>\n",
       "      <td>hybrid</td>\n",
       "      <td>4.0</td>\n",
       "      <td>Creative,Energetic,Tingly,Euphoric,Relaxed</td>\n",
       "      <td>Earthy,Sweet,Citrus</td>\n",
       "      <td>$100 OG is a 50/50 hybrid strain that packs a ...</td>\n",
       "    </tr>\n",
       "    <tr>\n",
       "      <th>1</th>\n",
       "      <td>98-white-widow</td>\n",
       "      <td>hybrid</td>\n",
       "      <td>4.7</td>\n",
       "      <td>Relaxed,Aroused,Creative,Happy,Energetic</td>\n",
       "      <td>Flowery,Violet,Diesel</td>\n",
       "      <td>The ‘98 Aloha White Widow is an especially pot...</td>\n",
       "    </tr>\n",
       "    <tr>\n",
       "      <th>2</th>\n",
       "      <td>1024</td>\n",
       "      <td>sativa</td>\n",
       "      <td>4.4</td>\n",
       "      <td>Uplifted,Happy,Relaxed,Energetic,Creative</td>\n",
       "      <td>Spicy/Herbal,Sage,Woody</td>\n",
       "      <td>1024 is a sativa-dominant hybrid bred in Spain...</td>\n",
       "    </tr>\n",
       "    <tr>\n",
       "      <th>3</th>\n",
       "      <td>13-dawgs</td>\n",
       "      <td>hybrid</td>\n",
       "      <td>4.2</td>\n",
       "      <td>Tingly,Creative,Hungry,Relaxed,Uplifted</td>\n",
       "      <td>Apricot,Citrus,Grapefruit</td>\n",
       "      <td>13 Dawgs is a hybrid of G13 and Chemdawg genet...</td>\n",
       "    </tr>\n",
       "    <tr>\n",
       "      <th>4</th>\n",
       "      <td>24k-gold</td>\n",
       "      <td>hybrid</td>\n",
       "      <td>4.6</td>\n",
       "      <td>Happy,Relaxed,Euphoric,Uplifted,Talkative</td>\n",
       "      <td>Citrus,Earthy,Orange</td>\n",
       "      <td>Also known as Kosher Tangie, 24k Gold is a 60%...</td>\n",
       "    </tr>\n",
       "  </tbody>\n",
       "</table>\n",
       "</div>"
      ],
      "text/plain": [
       "           Strain    Type  Rating                                     Effects  \\\n",
       "0          100-og  hybrid     4.0  Creative,Energetic,Tingly,Euphoric,Relaxed   \n",
       "1  98-white-widow  hybrid     4.7    Relaxed,Aroused,Creative,Happy,Energetic   \n",
       "2            1024  sativa     4.4   Uplifted,Happy,Relaxed,Energetic,Creative   \n",
       "3        13-dawgs  hybrid     4.2     Tingly,Creative,Hungry,Relaxed,Uplifted   \n",
       "4        24k-gold  hybrid     4.6   Happy,Relaxed,Euphoric,Uplifted,Talkative   \n",
       "\n",
       "                      Flavor  \\\n",
       "0        Earthy,Sweet,Citrus   \n",
       "1      Flowery,Violet,Diesel   \n",
       "2    Spicy/Herbal,Sage,Woody   \n",
       "3  Apricot,Citrus,Grapefruit   \n",
       "4       Citrus,Earthy,Orange   \n",
       "\n",
       "                                         Description  \n",
       "0  $100 OG is a 50/50 hybrid strain that packs a ...  \n",
       "1  The ‘98 Aloha White Widow is an especially pot...  \n",
       "2  1024 is a sativa-dominant hybrid bred in Spain...  \n",
       "3  13 Dawgs is a hybrid of G13 and Chemdawg genet...  \n",
       "4  Also known as Kosher Tangie, 24k Gold is a 60%...  "
      ]
     },
     "execution_count": 5,
     "metadata": {},
     "output_type": "execute_result"
    }
   ],
   "source": [
    "print(kaggle.shape)\n",
    "kaggle.head()"
   ]
  },
  {
   "cell_type": "code",
   "execution_count": 6,
   "metadata": {},
   "outputs": [],
   "source": [
    "# rename columns to match kaggle dataset for merging\n",
    "allbuds = allbuds.rename(columns={'strain_name':'Strain',\n",
    "                                  'strain_desc':'Description',\n",
    "                                  'strain_type':'Type',\n",
    "                                  'strain_percent_indica':'Percent Indica',\n",
    "                                  'strain_percent_sativa':'Percent Sativa',\n",
    "                                  'strain_thc_percent':'THC Percent',\n",
    "                                  'strain_flavors':'Flavor',\n",
    "                                  'strain_effects':'Effects'})"
   ]
  },
  {
   "cell_type": "code",
   "execution_count": 8,
   "metadata": {},
   "outputs": [],
   "source": [
    "# stripped string from Percent Indica, Percent Sativa and THC Percent\n",
    "# and converted to float. Also allbuds Types column specifies whether\n",
    "# a hybrid strain is sativa or indica dominant, removed specification\n",
    "# to just say hybrid.\n",
    "\n",
    "def snc2f(data):\n",
    "    data = data.copy()\n",
    "    p_indica = []\n",
    "    p_sativa = []\n",
    "    p_thc = []\n",
    "    types = []\n",
    "    \n",
    "    for row in data['Percent Indica']:\n",
    "        if isinstance(row, str) == True:\n",
    "            stripped = row.strip('% Indica')\n",
    "            converted = float(stripped)/100\n",
    "            p_indica.append(converted)\n",
    "        else:\n",
    "            p_indica.append(float('nan'))\n",
    "\n",
    "    for row in data['Percent Sativa']:\n",
    "        if isinstance(row, str) == True:\n",
    "            stripped = row.strip('% Sativa')\n",
    "            converted = float(stripped)/100\n",
    "            p_sativa.append(converted)\n",
    "        else:\n",
    "            p_sativa.append(float('nan'))\n",
    "\n",
    "    for row in data['THC Percent']:\n",
    "        if isinstance(row, float) == True:\n",
    "            converted = row/100\n",
    "            p_thc.append(converted)\n",
    "        else:\n",
    "            p_thc.append(float('nan'))\n",
    "\n",
    "    for row in data['Type']:\n",
    "        row = row.lower()\n",
    "        if 'hybrid' in row:\n",
    "            types.append('hybrid')\n",
    "        else:\n",
    "            types.append(row)\n",
    "\n",
    "    allbuds['Percent Indica'] = p_indica\n",
    "    allbuds['Percent Sativa'] = p_sativa\n",
    "    allbuds['THC Percent'] = p_thc\n",
    "    allbuds['Type'] = types\n",
    "    \n",
    "    return \n",
    "    \n",
    "allbuds = snc2f(allbuds)"
   ]
  },
  {
   "cell_type": "code",
   "execution_count": 9,
   "metadata": {},
   "outputs": [
    {
     "ename": "AttributeError",
     "evalue": "'NoneType' object has no attribute 'shape'",
     "output_type": "error",
     "traceback": [
      "\u001b[0;31m---------------------------------------------------------------------------\u001b[0m",
      "\u001b[0;31mAttributeError\u001b[0m                            Traceback (most recent call last)",
      "\u001b[0;32m<ipython-input-9-b459f820996f>\u001b[0m in \u001b[0;36m<module>\u001b[0;34m\u001b[0m\n\u001b[0;32m----> 1\u001b[0;31m \u001b[0mprint\u001b[0m\u001b[0;34m(\u001b[0m\u001b[0mallbuds\u001b[0m\u001b[0;34m.\u001b[0m\u001b[0mshape\u001b[0m\u001b[0;34m)\u001b[0m\u001b[0;34m\u001b[0m\u001b[0;34m\u001b[0m\u001b[0m\n\u001b[0m\u001b[1;32m      2\u001b[0m \u001b[0mallbuds\u001b[0m\u001b[0;34m.\u001b[0m\u001b[0mhead\u001b[0m\u001b[0;34m(\u001b[0m\u001b[0;34m)\u001b[0m\u001b[0;34m\u001b[0m\u001b[0;34m\u001b[0m\u001b[0m\n",
      "\u001b[0;31mAttributeError\u001b[0m: 'NoneType' object has no attribute 'shape'"
     ]
    }
   ],
   "source": [
    "print(allbuds.shape)\n",
    "allbuds.head()"
   ]
  },
  {
   "cell_type": "code",
   "execution_count": null,
   "metadata": {},
   "outputs": [],
   "source": [
    "# checking for duplicated strain names\n",
    "allbuds[allbuds['Strain'].duplicated() == True]"
   ]
  },
  {
   "cell_type": "code",
   "execution_count": null,
   "metadata": {},
   "outputs": [],
   "source": [
    "# dropped duplicates\n",
    "allbuds = allbuds.drop(allbuds.index[[5121, 5258, 5351]])"
   ]
  },
  {
   "cell_type": "code",
   "execution_count": null,
   "metadata": {},
   "outputs": [],
   "source": [
    "# checking for duplicated strain names\n",
    "kaggle[kaggle['Strain'].duplicated() == True]"
   ]
  },
  {
   "cell_type": "code",
   "execution_count": null,
   "metadata": {},
   "outputs": [],
   "source": [
    "# dropped duplicates\n",
    "kaggle = kaggle.drop_duplicates()"
   ]
  },
  {
   "cell_type": "code",
   "execution_count": null,
   "metadata": {},
   "outputs": [],
   "source": [
    "print(allbuds.shape)\n",
    "kaggle.shape"
   ]
  },
  {
   "cell_type": "code",
   "execution_count": null,
   "metadata": {},
   "outputs": [],
   "source": [
    "# initial merge of 2 datasets\n",
    "merged = pd.merge(allbuds, kaggle, on=['Strain'], how='outer', validate='1:1', suffixes=('_allbuds', '_leafly'))"
   ]
  },
  {
   "cell_type": "code",
   "execution_count": 10,
   "metadata": {},
   "outputs": [
    {
     "ename": "NameError",
     "evalue": "name 'merged' is not defined",
     "output_type": "error",
     "traceback": [
      "\u001b[0;31m---------------------------------------------------------------------------\u001b[0m",
      "\u001b[0;31mNameError\u001b[0m                                 Traceback (most recent call last)",
      "\u001b[0;32m<ipython-input-10-677fd7bf8ac4>\u001b[0m in \u001b[0;36m<module>\u001b[0;34m\u001b[0m\n\u001b[0;32m----> 1\u001b[0;31m \u001b[0mprint\u001b[0m\u001b[0;34m(\u001b[0m\u001b[0mmerged\u001b[0m\u001b[0;34m.\u001b[0m\u001b[0mshape\u001b[0m\u001b[0;34m)\u001b[0m\u001b[0;34m\u001b[0m\u001b[0;34m\u001b[0m\u001b[0m\n\u001b[0m\u001b[1;32m      2\u001b[0m \u001b[0mmerged\u001b[0m\u001b[0;34m.\u001b[0m\u001b[0mhead\u001b[0m\u001b[0;34m(\u001b[0m\u001b[0;34m)\u001b[0m\u001b[0;34m\u001b[0m\u001b[0;34m\u001b[0m\u001b[0m\n",
      "\u001b[0;31mNameError\u001b[0m: name 'merged' is not defined"
     ]
    }
   ],
   "source": [
    "print(merged.shape)\n",
    "merged.head()"
   ]
  },
  {
   "cell_type": "code",
   "execution_count": null,
   "metadata": {},
   "outputs": [],
   "source": [
    "merged.isna().sum()"
   ]
  },
  {
   "cell_type": "code",
   "execution_count": null,
   "metadata": {},
   "outputs": [],
   "source": [
    "# function to remove double columns on Description, Type, Flavor, and Effects\n",
    "def clean_dataset(data):\n",
    "    df = pd.DataFrame(columns=['Strain', 'Type', 'Percent Indica', 'Percent Sativa',\n",
    "                               'THC Percent', 'Description 1', 'Description 2',\n",
    "                               'Generated Description', 'Flavor', 'Effects',\n",
    "                               'Rating'])\n",
    "    description_1 = []\n",
    "    description_2 = []\n",
    "    types = [] \n",
    "    flavor = []\n",
    "    flavor_leafly = []\n",
    "    effects = []\n",
    "    effects_leafly = []\n",
    "    \n",
    "    \n",
    "    for row in zip(data['Type_allbuds'], data['Type_leafly']):\n",
    "        if row[0] == row[1]:\n",
    "            types.append(row[0])\n",
    "        elif (type(row[0]) == str) & (type(row[1]) == float):\n",
    "            types.append(row[0])\n",
    "        elif (type(row[1]) == str) & (type(row[0]) == float):\n",
    "            types.append(row[1])\n",
    "        elif (type(row[1]) == float) & (type(row[0]) == float):\n",
    "            types.append(float('nan'))\n",
    "        else:\n",
    "            types.append('hybrid')\n",
    "    \n",
    "    for row in zip(data['Description_allbuds'], data['Description_leafly']):\n",
    "        if (type(row[0]) == str) & (type(row[1]) == str):\n",
    "            description_1.append(row[0])\n",
    "            description_2.append(row[1])\n",
    "        elif (type(row[0]) == str) & (type(row[1]) == float):\n",
    "            description_1.append(row[0])\n",
    "            description_2.append(float('nan'))\n",
    "        elif (type(row[0]) == float) & (type(row[1]) == str):\n",
    "            description_1.append(row[1])\n",
    "            description_2.append(float('nan'))\n",
    "        else:\n",
    "            description_1.append(float('nan'))\n",
    "            description_2.append(float('nan'))\n",
    "            \n",
    "    for row in data['Flavor_leafly']:\n",
    "        if type(row) == str:\n",
    "            row = row.replace(',', ' ')\n",
    "            flavor_leafly.append(row)\n",
    "        else:\n",
    "            flavor_leafly.append(float('nan'))\n",
    "    \n",
    "    data['Flavor_leafly'] = flavor_leafly\n",
    "\n",
    "    for row in zip(data['Flavor_allbuds'], data['Flavor_leafly']):\n",
    "        if (type(row[0]) == str) & (type(row[1]) == str):\n",
    "            flavor.append(str(row[0] + ' ' + row[1]))\n",
    "        elif (type(row[0]) == str) & (type(row[1]) == float):\n",
    "            flavor.append(row[0])\n",
    "        elif (type(row[0]) == float) & (type(row[1]) == str):\n",
    "            flavor.append(row[1])\n",
    "        else:\n",
    "            flavor.append(float('nan'))\n",
    "    \n",
    "    for row in data['Effects_leafly']:\n",
    "        if type(row) == str:\n",
    "            row = row.replace(',', ' ')\n",
    "            effects_leafly.append(row)\n",
    "        else:\n",
    "            effects_leafly.append(float('nan'))\n",
    "    \n",
    "    data['Flavor_leafly'] = effects_leafly\n",
    "    \n",
    "    for row in zip(data['Effects_allbuds'], data['Effects_leafly']):\n",
    "        if (type(row[0]) == str) & (type(row[1]) == str):\n",
    "            effects.append(str(row[0] + ' ' + row[1]))\n",
    "        elif (type(row[0]) == str) & (type(row[1]) == float):\n",
    "            effects.append(row[0])\n",
    "        elif (type(row[0]) == float) & (type(row[1]) == str):\n",
    "            effects.append(row[1])\n",
    "        else:\n",
    "            effects.append(float('nan'))\n",
    "    \n",
    "    \n",
    "    df['Strain'] = data['Strain']\n",
    "    df['Description 1'] = description_1\n",
    "    df['Description 2'] = description_2\n",
    "    df['Type'] = types\n",
    "    df['Flavor'] = flavor\n",
    "    df['Effects'] = effects\n",
    "    df['Rating'] = data['Rating']\n",
    "    df['Percent Indica'] = data['Percent Indica']\n",
    "    df['Percent Sativa'] = data['Percent Sativa']\n",
    "    df['THC Percent'] = data['THC Percent']\n",
    "    \n",
    "    return df"
   ]
  },
  {
   "cell_type": "code",
   "execution_count": null,
   "metadata": {},
   "outputs": [],
   "source": [
    "# final dataset\n",
    "final = clean_dataset(merged)"
   ]
  },
  {
   "cell_type": "code",
   "execution_count": null,
   "metadata": {},
   "outputs": [],
   "source": [
    "print(final.shape)\n",
    "final.head()"
   ]
  },
  {
   "cell_type": "code",
   "execution_count": null,
   "metadata": {},
   "outputs": [],
   "source": [
    "final.isna().sum()"
   ]
  },
  {
   "cell_type": "code",
   "execution_count": null,
   "metadata": {},
   "outputs": [],
   "source": [
    "final.to_csv('processed_kaggle_allbuds.csv', index=False)"
   ]
  },
  {
   "cell_type": "code",
   "execution_count": null,
   "metadata": {},
   "outputs": [],
   "source": []
  }
 ],
 "metadata": {
  "kernelspec": {
   "display_name": "Python 3",
   "language": "python",
   "name": "python3"
  },
  "language_info": {
   "codemirror_mode": {
    "name": "ipython",
    "version": 3
   },
   "file_extension": ".py",
   "mimetype": "text/x-python",
   "name": "python",
   "nbconvert_exporter": "python",
   "pygments_lexer": "ipython3",
   "version": "3.7.3"
  },
  "toc": {
   "base_numbering": 1,
   "nav_menu": {},
   "number_sections": true,
   "sideBar": true,
   "skip_h1_title": false,
   "title_cell": "Table of Contents",
   "title_sidebar": "Contents",
   "toc_cell": false,
   "toc_position": {},
   "toc_section_display": true,
   "toc_window_display": false
  }
 },
 "nbformat": 4,
 "nbformat_minor": 2
}
