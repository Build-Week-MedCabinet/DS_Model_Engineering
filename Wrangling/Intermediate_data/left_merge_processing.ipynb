{
 "cells": [
  {
   "cell_type": "code",
   "execution_count": 1,
   "metadata": {},
   "outputs": [],
   "source": [
    "import datetime\n",
    "import numpy as np\n",
    "import pandas as pd"
   ]
  },
  {
   "cell_type": "code",
   "execution_count": 2,
   "metadata": {},
   "outputs": [],
   "source": [
    "df = pd.read_csv('left_merged.csv')"
   ]
  },
  {
   "cell_type": "code",
   "execution_count": 3,
   "metadata": {},
   "outputs": [],
   "source": [
    "def choose_description(row):\n",
    "    # if description is not a string, set length to zero\n",
    "    try:\n",
    "        length_1 = len(row['Description 1'].split())\n",
    "    except AttributeError:\n",
    "        length_1 = 0\n",
    "    try:\n",
    "        length_2 = len(row['Description 1'].split())\n",
    "    except AttributeError:\n",
    "        length_2 = 0\n",
    "    \n",
    "    # return NaN if under 10 words in longest description\n",
    "    if length_1 < 10 and length_2 < 10:\n",
    "        return np.nan\n",
    "    \n",
    "    if length_1 >= length_2:\n",
    "        return row['Description 1']\n",
    "    \n",
    "    return row['Description 2']"
   ]
  },
  {
   "cell_type": "code",
   "execution_count": 4,
   "metadata": {},
   "outputs": [],
   "source": [
    "df['Description'] = df.apply(choose_description, axis=1)"
   ]
  },
  {
   "cell_type": "code",
   "execution_count": 5,
   "metadata": {},
   "outputs": [],
   "source": [
    "def combine_descriptions(row):\n",
    "    desc_1 = row['Description 1']\n",
    "    desc_2 = row['Description 2']\n",
    "    \n",
    "    # if description is not a string, set it to empty string\n",
    "    if isinstance(desc_1, float):\n",
    "        desc_1 = ''\n",
    "    if isinstance(desc_2, float):\n",
    "        desc_2 = ''\n",
    "    \n",
    "    # return combined descrtiption unless length is zero, then return NaN\n",
    "    combined_desc = desc_1 + ' ' + desc_2\n",
    "    return combined_desc if combined_desc != ' ' else np.nan"
   ]
  },
  {
   "cell_type": "code",
   "execution_count": 6,
   "metadata": {},
   "outputs": [],
   "source": [
    "df['Generated Description'] = df.apply(combine_descriptions, axis=1)"
   ]
  },
  {
   "cell_type": "code",
   "execution_count": 7,
   "metadata": {},
   "outputs": [],
   "source": [
    "# drop original description columns\n",
    "df = df.drop(columns=['Description 1', 'Description 2'])"
   ]
  },
  {
   "cell_type": "markdown",
   "metadata": {},
   "source": [
    "## Process Laboratory Results"
   ]
  },
  {
   "cell_type": "code",
   "execution_count": 8,
   "metadata": {},
   "outputs": [],
   "source": [
    "data = df"
   ]
  },
  {
   "cell_type": "code",
   "execution_count": 9,
   "metadata": {},
   "outputs": [],
   "source": [
    "# Drop Lab Overview Columns\n",
    "data = data.drop(columns=['ana360', 'psilabs', 'sclabs'])\n",
    "\n",
    "# Drop unnecessary data columns\n",
    "\n",
    "data = data.drop(columns=['Moisture Content'])"
   ]
  },
  {
   "cell_type": "code",
   "execution_count": 10,
   "metadata": {},
   "outputs": [],
   "source": [
    "# Consolidate THC to Total_THC\n",
    "thc_cols = ['delta-9 THC-A', 'delta-9 THC', 'delta-8 THC', 'THC-A', 'THCV']\n",
    "cbd_cols = ['CBD-A', 'CBD', 'CBDV', 'CBDV-A']\n",
    "cbg_cols = ['delta-9 CBG-A','delta-9 CBG']\n",
    "nerolidol_cols = ['cis-Nerolidol', 'trans-Nerolidol', 'trans-Nerolidol 1', 'trans-Nerolidol 2']\n",
    "ocimene_cols = ['trans-Ocimene', 'beta-Ocimene']\n",
    "caryophyllene_cols = ['beta-Caryophyllene', 'Caryophyllene Oxide']\n",
    "pinene_cols = ['alpha-Pinene','beta-Pinene']\n",
    "terpinene_cols = ['alpha-Terpinene','gamma-Terpinene']\n",
    "\n",
    "\n",
    "# Copy data for transformations, calculation of total active components\n",
    "tf = data[thc_cols].copy().fillna(value=0)\n",
    "cf = data[cbd_cols].copy().fillna(value=0)\n",
    "gf = data[cbg_cols].copy().fillna(value=0)\n",
    "nf = data[nerolidol_cols].copy().fillna(value=0)\n",
    "of = data[ocimene_cols].copy().fillna(value=0)\n",
    "caf = data[caryophyllene_cols].copy().fillna(value=0)\n",
    "pf = data[pinene_cols].copy().fillna(value=0)\n",
    "tef = data[terpinene_cols].copy().fillna(value=0)"
   ]
  },
  {
   "cell_type": "code",
   "execution_count": 11,
   "metadata": {},
   "outputs": [],
   "source": [
    "# Calculate total active component and similar analytes\n",
    "tf['Total_THC'] = tf[['THC-A', 'delta-9 THC-A']].max(axis=1) * 0.877 + tf['delta-9 THC'] + tf['delta-8 THC'] + tf['THCV']\n",
    "cf['Total_CBD'] = cf[['CBD-A', 'CBDV-A']].sum(axis=1) * 0.877 + cf['CBD'] + cf['CBDV']\n",
    "gf['Total_CBG'] = gf['delta-9 CBG-A'] + gf['delta-9 CBG']\n",
    "nf['Nerolidol'] = nf.sum(axis=1)\n",
    "of['Ocimene'] = of.sum(axis=1)\n",
    "caf['Caryophyllene'] = caf.sum(axis=1)\n",
    "pf['Pinene'] = pf.sum(axis=1)\n",
    "tef['Terpinene'] = tef.sum(axis=1)\n",
    "\n",
    "\n",
    "# Replace zeroes with NaN\n",
    "tf.Total_THC = tf.Total_THC.replace(to_replace=0, value=np.NaN)\n",
    "cf.Total_CBD = cf.Total_CBD.replace(to_replace=0, value=np.NaN)\n",
    "gf.Total_CBG = gf.Total_CBG.replace(to_replace=0, value=np.NaN)\n",
    "nf.Nerolidol = nf.Nerolidol.replace(to_replace=0, value=np.NaN)\n",
    "of.Ocimene = of.Ocimene.replace(to_replace=0, value=np.NaN)\n",
    "caf.Caryophyllene = caf.Caryophyllene.replace(to_replace=0, value=np.NaN)\n",
    "pf.Pinene = pf.Pinene.replace(to_replace=0, value=np.NaN)\n",
    "tef.Terpinene = tef.Terpinene.replace(to_replace=0, value=np.NaN)"
   ]
  },
  {
   "cell_type": "code",
   "execution_count": 12,
   "metadata": {},
   "outputs": [],
   "source": [
    "# Add summary THC and CBD columns back to original dataframe.  Drop working columns.\n",
    "data = data.drop(columns=thc_cols)\n",
    "data = data.drop(columns=cbd_cols)\n",
    "data = data.drop(columns=cbg_cols)\n",
    "data = data.drop(columns=nerolidol_cols)\n",
    "data = data.drop(columns=ocimene_cols)\n",
    "data = data.drop(columns=caryophyllene_cols)\n",
    "data = data.drop(columns=pinene_cols)\n",
    "data = data.drop(columns=terpinene_cols)\n",
    "\n",
    "data['Total_THC'] = tf.Total_THC\n",
    "data['Total_CBD'] = cf.Total_CBD\n",
    "data['Total_CBG'] = gf.Total_CBG\n",
    "data['Nerolidol'] = nf.Nerolidol\n",
    "data['Ocimene'] = of.Ocimene\n",
    "data['Caryophyllene'] = caf.Caryophyllene\n",
    "data['Terpinene'] = tef.Terpinene"
   ]
  },
  {
   "cell_type": "code",
   "execution_count": 13,
   "metadata": {},
   "outputs": [],
   "source": [
    "# Clean remaining names for easier search/load operation\n",
    "\n",
    "name_delta_map = {\n",
    "    '3-Carene': 'Carene',\n",
    "    'p-Cymene': 'Cymene',\n",
    "    'alpha-Bisabolol': 'Bisabolol',\n",
    "    'alpha-Humulene': 'Humulene',\n",
    "    'beta-Myrcene': 'Myrcene',\n",
    "    'delta-Limonene': 'Limonene',\n",
    "}\n",
    "\n",
    "data = data.rename(columns=name_delta_map)"
   ]
  },
  {
   "cell_type": "code",
   "execution_count": 14,
   "metadata": {},
   "outputs": [],
   "source": [
    "# Compare THC reported by users/site and directly from labs, using lab value where possible\n",
    "\n",
    "data['Total_THC'] = data['Total_THC'].fillna(value=data['THC Percent']*100)\n",
    "\n",
    "# Drop original THC Percent column\n",
    "\n",
    "data = data.drop(columns='THC Percent')"
   ]
  },
  {
   "cell_type": "code",
   "execution_count": 15,
   "metadata": {},
   "outputs": [],
   "source": [
    "# Drop strain repeat column\n",
    "data = data.drop(columns='strain')"
   ]
  },
  {
   "cell_type": "code",
   "execution_count": null,
   "metadata": {},
   "outputs": [],
   "source": []
  },
  {
   "cell_type": "code",
   "execution_count": 16,
   "metadata": {},
   "outputs": [],
   "source": [
    "# save master dataset to csv file\n",
    "now = datetime.datetime.now()\n",
    "path = '../processed_data/master-' + now.strftime(\"%Y-%m-%d %H:%M\") + '.csv'\n",
    "data.to_csv(path)"
   ]
  },
  {
   "cell_type": "code",
   "execution_count": 18,
   "metadata": {},
   "outputs": [],
   "source": [
    "# save subset to exports for db creation, web integration\n",
    "export_cols = ['Strain', 'Type', 'Percent Indica', 'Percent Sativa', \n",
    "               'Flavor', 'Effects', 'Rating', 'Carene',\n",
    "               'Camphene', 'Eucalyptol', 'Geraniol', 'Guaiol', 'Isopulegol',\n",
    "               'Linalool', 'Ocimene', 'Terpinolene', 'Bisabolol', 'Humulene',\n",
    "               'Myrcene', 'Limonene', 'Cymene', 'CBN', 'CBC', 'Description',\n",
    "               'Total_THC', 'Total_CBD', 'Total_CBG', 'Nerolidol', 'Caryophyllene',\n",
    "               'Terpinene']\n",
    "path = '../exports/master_export-' + now.strftime(\"%Y-%m-%d %H:%M\") + '.csv'\n",
    "data[export_cols].to_csv(path)"
   ]
  },
  {
   "cell_type": "code",
   "execution_count": null,
   "metadata": {},
   "outputs": [],
   "source": []
  }
 ],
 "metadata": {
  "kernelspec": {
   "display_name": "Python 3",
   "language": "python",
   "name": "python3"
  },
  "language_info": {
   "codemirror_mode": {
    "name": "ipython",
    "version": 3
   },
   "file_extension": ".py",
   "mimetype": "text/x-python",
   "name": "python",
   "nbconvert_exporter": "python",
   "pygments_lexer": "ipython3",
   "version": "3.7.4"
  }
 },
 "nbformat": 4,
 "nbformat_minor": 4
}
