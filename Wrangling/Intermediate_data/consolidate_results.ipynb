{
 "cells": [
  {
   "cell_type": "code",
   "execution_count": 1,
   "metadata": {},
   "outputs": [],
   "source": [
    "import numpy as np\n",
    "import pandas as pd"
   ]
  },
  {
   "cell_type": "code",
   "execution_count": 2,
   "metadata": {},
   "outputs": [],
   "source": [
    "df_all = pd.read_csv('./results_compiled.csv')"
   ]
  },
  {
   "cell_type": "code",
   "execution_count": 3,
   "metadata": {},
   "outputs": [
    {
     "data": {
      "text/plain": [
       "(43013, 45)"
      ]
     },
     "execution_count": 3,
     "metadata": {},
     "output_type": "execute_result"
    }
   ],
   "source": [
    "df_all.shape"
   ]
  },
  {
   "cell_type": "code",
   "execution_count": 4,
   "metadata": {},
   "outputs": [],
   "source": [
    "keep_types = ['Archived', 'CBD, Flower, Inhalable', 'Flower', 'Flower, Inhalable',\n",
    "              'Honey Bud, Flower, Inhalable', 'Hybrid, Flower, Inhalable',\n",
    "              'Indica, Flower, Inhalable', 'Sativa, Flower, Inhalable', np.nan]"
   ]
  },
  {
   "cell_type": "code",
   "execution_count": 5,
   "metadata": {},
   "outputs": [],
   "source": [
    "df = df_all[df_all['Sample Type'].isin(keep_types)].copy()"
   ]
  },
  {
   "cell_type": "code",
   "execution_count": 6,
   "metadata": {},
   "outputs": [
    {
     "data": {
      "text/plain": [
       "(37548, 45)"
      ]
     },
     "execution_count": 6,
     "metadata": {},
     "output_type": "execute_result"
    }
   ],
   "source": [
    "df.shape"
   ]
  },
  {
   "cell_type": "code",
   "execution_count": 7,
   "metadata": {},
   "outputs": [],
   "source": [
    "# create dictionary for grouping methods\n",
    "mean_columns = ['cis-Nerolidol', 'trans-Nerolidol', 'trans-Nerolidol 1', 'trans-Nerolidol 2', 'trans-Ocimene', '3-Carene', 'Camphene', 'Caryophyllene Oxide', 'Eucalyptol', 'Geraniol', 'Guaiol', 'Isopulegol', 'Linalool', 'Ocimene', 'Terpinolene', 'alpha-Bisabolol', 'alpha-Humulene', 'alpha-Pinene', 'alpha-Terpinene', 'beta-Caryophyllene', 'beta-Myrcene', 'beta-Ocimene', 'beta-Pinene', 'delta-Limonene', 'gamma-Terpinene', 'p-Cymene', 'delta-9 THC-A', 'delta-9 THC', 'delta-8 THC', 'THC-A', 'THCV', 'CBN', 'CBD-A', 'CBD', 'CBDV', 'CBDV-A', 'delta-9 CBG-A', 'delta-9 CBG', 'CBC', 'Moisture Content']\n",
    "sum_columns = ['ana360', 'psilabs', 'sclabs']\n",
    "group_methods = {}\n",
    "for col in mean_columns:\n",
    "    group_methods[col] = 'mean'\n",
    "for col in sum_columns:\n",
    "    group_methods[col] = 'sum'"
   ]
  },
  {
   "cell_type": "code",
   "execution_count": 8,
   "metadata": {},
   "outputs": [],
   "source": [
    "df_all_grouped = (df_all.groupby('strain', as_index=False)\n",
    "       .agg(group_methods))"
   ]
  },
  {
   "cell_type": "code",
   "execution_count": 9,
   "metadata": {},
   "outputs": [
    {
     "data": {
      "text/plain": [
       "(24163, 44)"
      ]
     },
     "execution_count": 9,
     "metadata": {},
     "output_type": "execute_result"
    }
   ],
   "source": [
    "df_all_grouped.shape"
   ]
  },
  {
   "cell_type": "code",
   "execution_count": 10,
   "metadata": {},
   "outputs": [],
   "source": [
    "df_grouped = (df.groupby('strain', as_index=False)\n",
    "       .agg(group_methods))"
   ]
  },
  {
   "cell_type": "code",
   "execution_count": 11,
   "metadata": {},
   "outputs": [
    {
     "data": {
      "text/plain": [
       "(19964, 44)"
      ]
     },
     "execution_count": 11,
     "metadata": {},
     "output_type": "execute_result"
    }
   ],
   "source": [
    "df_grouped.shape"
   ]
  },
  {
   "cell_type": "code",
   "execution_count": 12,
   "metadata": {},
   "outputs": [],
   "source": [
    "df_all_grouped.to_csv('./results_consolidate_all.csv', index=False)"
   ]
  },
  {
   "cell_type": "code",
   "execution_count": 13,
   "metadata": {},
   "outputs": [],
   "source": [
    "df_grouped.to_csv('./results_consolidate_filtered.csv', index=False)"
   ]
  }
 ],
 "metadata": {
  "kernelspec": {
   "display_name": "Python 3",
   "language": "python",
   "name": "python3"
  },
  "language_info": {
   "codemirror_mode": {
    "name": "ipython",
    "version": 3
   },
   "file_extension": ".py",
   "mimetype": "text/x-python",
   "name": "python",
   "nbconvert_exporter": "python",
   "pygments_lexer": "ipython3",
   "version": "3.7.3"
  },
  "toc": {
   "base_numbering": 1,
   "nav_menu": {},
   "number_sections": true,
   "sideBar": true,
   "skip_h1_title": false,
   "title_cell": "Table of Contents",
   "title_sidebar": "Contents",
   "toc_cell": false,
   "toc_position": {},
   "toc_section_display": true,
   "toc_window_display": false
  }
 },
 "nbformat": 4,
 "nbformat_minor": 4
}
