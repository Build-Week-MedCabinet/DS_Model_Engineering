{
 "cells": [
  {
   "cell_type": "code",
   "execution_count": 1,
   "metadata": {},
   "outputs": [],
   "source": [
    "import datetime\n",
    "import numpy as np\n",
    "import pandas as pd"
   ]
  },
  {
   "cell_type": "code",
   "execution_count": 2,
   "metadata": {},
   "outputs": [],
   "source": [
    "df = pd.read_csv('left_merged.csv')"
   ]
  },
  {
   "cell_type": "code",
   "execution_count": 3,
   "metadata": {},
   "outputs": [],
   "source": [
    "def choose_description(row):\n",
    "    # if description is not a string, set length to zero\n",
    "    try:\n",
    "        length_1 = len(row['Description 1'].split())\n",
    "    except AttributeError:\n",
    "        length_1 = 0\n",
    "    try:\n",
    "        length_2 = len(row['Description 1'].split())\n",
    "    except AttributeError:\n",
    "        length_2 = 0\n",
    "    \n",
    "    # return NaN if under 10 words in longest description\n",
    "    if length_1 < 10 and length_2 < 10:\n",
    "        return np.nan\n",
    "    \n",
    "    if length_1 >= length_2:\n",
    "        return row['Description 1']\n",
    "    \n",
    "    return row['Description 2']"
   ]
  },
  {
   "cell_type": "code",
   "execution_count": 4,
   "metadata": {},
   "outputs": [],
   "source": [
    "df['Description'] = df.apply(choose_description, axis=1)"
   ]
  },
  {
   "cell_type": "code",
   "execution_count": 5,
   "metadata": {},
   "outputs": [],
   "source": [
    "def combine_descriptions(row):\n",
    "    desc_1 = row['Description 1']\n",
    "    desc_2 = row['Description 2']\n",
    "    \n",
    "    # if description is not a string, set it to empty string\n",
    "    if isinstance(desc_1, float):\n",
    "        desc_1 = ''\n",
    "    if isinstance(desc_2, float):\n",
    "        desc_2 = ''\n",
    "    \n",
    "    # return combined descrtiption unless length is zero, then return NaN\n",
    "    combined_desc = desc_1 + ' ' + desc_2\n",
    "    return combined_desc if combined_desc != ' ' else np.nan"
   ]
  },
  {
   "cell_type": "code",
   "execution_count": 6,
   "metadata": {},
   "outputs": [],
   "source": [
    "df['Generated Description'] = df.apply(combine_descriptions, axis=1)"
   ]
  },
  {
   "cell_type": "code",
   "execution_count": 7,
   "metadata": {},
   "outputs": [],
   "source": [
    "# drop original description columns\n",
    "df = df.drop(columns=['Description 1', 'Description 2'])"
   ]
  },
  {
   "cell_type": "code",
   "execution_count": 8,
   "metadata": {},
   "outputs": [],
   "source": [
    "# save to csv file\n",
    "now = datetime.datetime.now()\n",
    "path = '../processed_data/generated-descriptions-' + now.strftime(\"%Y-%m-%d %H:%M\") + '.csv'\n",
    "df.to_csv(path)"
   ]
  },
  {
   "cell_type": "code",
   "execution_count": null,
   "metadata": {},
   "outputs": [],
   "source": []
  }
 ],
 "metadata": {
  "kernelspec": {
   "display_name": "Python 3",
   "language": "python",
   "name": "python3"
  },
  "language_info": {
   "codemirror_mode": {
    "name": "ipython",
    "version": 3
   },
   "file_extension": ".py",
   "mimetype": "text/x-python",
   "name": "python",
   "nbconvert_exporter": "python",
   "pygments_lexer": "ipython3",
   "version": "3.7.4"
  }
 },
 "nbformat": 4,
 "nbformat_minor": 4
}
