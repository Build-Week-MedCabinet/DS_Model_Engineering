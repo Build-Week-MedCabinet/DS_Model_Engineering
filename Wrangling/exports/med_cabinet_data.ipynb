{
 "cells": [
  {
   "cell_type": "code",
   "execution_count": 1,
   "metadata": {},
   "outputs": [],
   "source": [
    "import pandas as pd\n",
    "from flask_sqlalchemy import SQLAlchemy\n",
    "\n",
    "DB = SQLAlchemy()"
   ]
  },
  {
   "cell_type": "code",
   "execution_count": 2,
   "metadata": {},
   "outputs": [],
   "source": [
    "import os\n",
    "\n",
    "os.chdir('/Users/ezb/Lambda/DS_Model_Engineering/Wrangling')"
   ]
  },
  {
   "cell_type": "code",
   "execution_count": 3,
   "metadata": {},
   "outputs": [],
   "source": [
    "df = pd.read_csv('Intermediate_data/left_merged.csv')"
   ]
  },
  {
   "cell_type": "code",
   "execution_count": 4,
   "metadata": {},
   "outputs": [
    {
     "data": {
      "text/plain": [
       "(5616, 55)"
      ]
     },
     "execution_count": 4,
     "metadata": {},
     "output_type": "execute_result"
    }
   ],
   "source": [
    "df.shape"
   ]
  },
  {
   "cell_type": "code",
   "execution_count": 5,
   "metadata": {},
   "outputs": [
    {
     "data": {
      "text/plain": [
       "Index(['Strain', 'Type', 'Percent Indica', 'Percent Sativa', 'THC Percent',\n",
       "       'Description 1', 'Description 2', 'Generated Description', 'Flavor',\n",
       "       'Effects', 'Rating', 'strain', 'cis-Nerolidol', 'trans-Nerolidol',\n",
       "       'trans-Nerolidol 1', 'trans-Nerolidol 2', 'trans-Ocimene', '3-Carene',\n",
       "       'Camphene', 'Caryophyllene Oxide', 'Eucalyptol', 'Geraniol', 'Guaiol',\n",
       "       'Isopulegol', 'Linalool', 'Ocimene', 'Terpinolene', 'alpha-Bisabolol',\n",
       "       'alpha-Humulene', 'alpha-Pinene', 'alpha-Terpinene',\n",
       "       'beta-Caryophyllene', 'beta-Myrcene', 'beta-Ocimene', 'beta-Pinene',\n",
       "       'delta-Limonene', 'gamma-Terpinene', 'p-Cymene', 'delta-9 THC-A',\n",
       "       'delta-9 THC', 'delta-8 THC', 'THC-A', 'THCV', 'CBN', 'CBD-A', 'CBD',\n",
       "       'CBDV', 'CBDV-A', 'delta-9 CBG-A', 'delta-9 CBG', 'CBC',\n",
       "       'Moisture Content', 'ana360', 'psilabs', 'sclabs'],\n",
       "      dtype='object')"
      ]
     },
     "execution_count": 5,
     "metadata": {},
     "output_type": "execute_result"
    }
   ],
   "source": [
    "df.columns"
   ]
  },
  {
   "cell_type": "code",
   "execution_count": 6,
   "metadata": {},
   "outputs": [],
   "source": [
    "strain_info = ['Strain', 'Type', 'Percent Indica', 'Percent Sativa', 'THC Percent',\n",
    "               'Description 1', 'Description 2', 'Generated Description', 'Flavor',\n",
    "               'Effects', 'Rating']\n",
    "        \n",
    "terpene = ['cis-Nerolidol', 'trans-Nerolidol', 'trans-Nerolidol 1',\n",
    "            'trans-Nerolidol 2', 'trans-Ocimene', '3-Carene', 'Camphene',\n",
    "            'Caryophyllene Oxide', 'Eucalyptol', 'Geraniol', 'Guaiol',\n",
    "            'Isopulegol', 'Linalool', 'Ocimene', 'Terpinolene', 'alpha-Bisabolol',\n",
    "            'alpha-Humulene', 'alpha-Pinene', 'alpha-Terpinene',\n",
    "            'beta-Caryophyllene', 'beta-Myrcene', 'beta-Ocimene', 'beta-Pinene',\n",
    "            'delta-Limonene', 'gamma-Terpinene', 'p-Cymene']\n",
    "\n",
    "cannabinoid = ['delta-9 THC-A','delta-9 THC', 'delta-8 THC', 'THC-A',\n",
    "                'THCV', 'CBN', 'CBD-A', 'CBD', 'CBDV', 'CBDV-A',\n",
    "                'delta-9 CBG-A', 'delta-9 CBG', 'CBC']\n"
   ]
  },
  {
   "cell_type": "code",
   "execution_count": 7,
   "metadata": {},
   "outputs": [],
   "source": [
    "strains = df.filter(strain_info, axis=1)\n",
    "terpenes = df.filter(terpene, axis=1)\n",
    "cannabinoids = df.filter(cannabinoid, axis=1)"
   ]
  },
  {
   "cell_type": "code",
   "execution_count": 8,
   "metadata": {},
   "outputs": [],
   "source": [
    "df['Strain_id'] = df.index.to_list()\n",
    "df = df.drop(columns='strain')\n",
    "df = df.rename(columns={'Strain':'strain'})"
   ]
  },
  {
   "cell_type": "code",
   "execution_count": 9,
   "metadata": {},
   "outputs": [],
   "source": [
    "os.chdir('/Users/ezb/Lambda/DS_Model_Engineering/Wrangling/exports/')"
   ]
  },
  {
   "cell_type": "code",
   "execution_count": 10,
   "metadata": {},
   "outputs": [
    {
     "name": "stderr",
     "output_type": "stream",
     "text": [
      "//anaconda3/lib/python3.7/site-packages/flask_sqlalchemy/__init__.py:814: UserWarning: Neither SQLALCHEMY_DATABASE_URI nor SQLALCHEMY_BINDS is set. Defaulting SQLALCHEMY_DATABASE_URI to \"sqlite:///:memory:\".\n",
      "  'Neither SQLALCHEMY_DATABASE_URI nor SQLALCHEMY_BINDS is set. '\n",
      "//anaconda3/lib/python3.7/site-packages/flask_sqlalchemy/__init__.py:835: FSADeprecationWarning: SQLALCHEMY_TRACK_MODIFICATIONS adds significant overhead and will be disabled by default in the future.  Set it to True or False to suppress this warning.\n",
      "  'SQLALCHEMY_TRACK_MODIFICATIONS adds significant overhead and '\n"
     ]
    }
   ],
   "source": [
    "from flask import Flask\n",
    "\n",
    "def create_app():\n",
    "    app = Flask(__name__)\n",
    "    DB.init_app(app)\n",
    "    return app\n",
    "\n",
    "app = create_app()\n",
    "app.app_context().push()\n",
    "app.config['SQLALCHEMY_DATABASE_URI'] = 'sqlite:///med_cabinet.sqlite3'\n",
    "\n",
    "strains.to_sql('Strain_info', con=DB.engine, index=True, index_label='id')\n",
    "terpenes.to_sql('Terpenes', con=DB.engine, index=True, index_label='id')\n",
    "cannabinoids.to_sql('Cannabinoids', con=DB.engine, index=True, index_label='id')"
   ]
  },
  {
   "cell_type": "code",
   "execution_count": 11,
   "metadata": {},
   "outputs": [],
   "source": [
    "DB.session.commit()"
   ]
  },
  {
   "cell_type": "code",
   "execution_count": null,
   "metadata": {},
   "outputs": [],
   "source": []
  }
 ],
 "metadata": {
  "kernelspec": {
   "display_name": "Python 3",
   "language": "python",
   "name": "python3"
  },
  "language_info": {
   "codemirror_mode": {
    "name": "ipython",
    "version": 3
   },
   "file_extension": ".py",
   "mimetype": "text/x-python",
   "name": "python",
   "nbconvert_exporter": "python",
   "pygments_lexer": "ipython3",
   "version": "3.7.3"
  },
  "toc": {
   "base_numbering": 1,
   "nav_menu": {},
   "number_sections": true,
   "sideBar": true,
   "skip_h1_title": false,
   "title_cell": "Table of Contents",
   "title_sidebar": "Contents",
   "toc_cell": false,
   "toc_position": {},
   "toc_section_display": true,
   "toc_window_display": false
  }
 },
 "nbformat": 4,
 "nbformat_minor": 2
}
