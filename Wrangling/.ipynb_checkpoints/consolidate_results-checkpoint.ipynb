{
 "cells": [
  {
   "cell_type": "code",
   "execution_count": 5,
   "metadata": {},
   "outputs": [],
   "source": [
    "import pandas as pd\n",
    "import re"
   ]
  },
  {
   "cell_type": "code",
   "execution_count": 52,
   "metadata": {},
   "outputs": [],
   "source": [
    "def add_source(df, source):\n",
    "    \"\"\"Add columns indictating the lab the data came from\"\"\"\n",
    "    dataframe = df.copy()\n",
    "    dataframe['ana360'] = int(source == 'ana360')\n",
    "    dataframe['psilabs'] = int(source == 'psilabs')\n",
    "    dataframe['sclabs'] = int(source == 'sclabs')\n",
    "    return dataframe"
   ]
  },
  {
   "cell_type": "code",
   "execution_count": 58,
   "metadata": {},
   "outputs": [],
   "source": [
    "def drop_columns(df):\n",
    "    \"\"\"Drop columns other than name that do not have numeric values that can be averaged\"\"\"\n",
    "    drops = ['Test Result UID', 'Sample Type', 'Receipt Time', 'Test Time', 'Provider']\n",
    "    if 'Post Time' in df.columns:\n",
    "        drops = drops + ['Post Time']\n",
    "    return df.drop(columns=drops)"
   ]
  },
  {
   "cell_type": "code",
   "execution_count": 7,
   "metadata": {},
   "outputs": [],
   "source": [
    "def conform_names(name):\n",
    "    \"\"\"Standardize names of strains across data sets\"\"\"\n",
    "    \n",
    "    # change any upper case letters to lower case\n",
    "    name = name.lower()\n",
    "    \n",
    "    # strip out text enclosed in brackets, parantheses, or quotes\n",
    "    brackets = r'[\\[({<].*?[\\])}>]'\n",
    "    name = re.sub(brackets, '', name)\n",
    "    \n",
    "    # remove characters that are not letters, numbers, spaces, hyphens, or underscores\n",
    "    drop = r'[^a-z0-9 _-]'\n",
    "    name = re.sub(drop, '', name)\n",
    "    \n",
    "    # replace hyphens and underscores with spaces\n",
    "    name = re.sub(r'[_-]', ' ', name)\n",
    "    \n",
    "    # split string on spaces and rejoin with hypens\n",
    "    name = '-'.join(name.split())\n",
    "    \n",
    "    return name\n",
    "    \n",
    "    "
   ]
  },
  {
   "cell_type": "code",
   "execution_count": null,
   "metadata": {},
   "outputs": [],
   "source": [
    "def process_dataframes(data_dict):\n",
    "    \"\"\"\n",
    "    Process and append dataframes into one dataframe.\n",
    "    data_dict pairs are a key that is the string of the dataframe variable name\n",
    "    and value of the dataframe variable.\n",
    "    \"\"\"\n",
    "    for source, dataframe in data_dict.items():\n",
    "        dataframe = add_source(dataframe, source)\n",
    "        dataframe = drop_columns(dataframe)\n",
    "        dataframe['Sample Name'] = dataframe['Sample Name'].apply(conform_names)\n",
    "        dataframe.rename(columns={'Sample Name': 'strain'})\n",
    "        \n",
    "    \n",
    "    "
   ]
  },
  {
   "cell_type": "markdown",
   "metadata": {},
   "source": [
    "### Create dataframes and process them to a single dataframe"
   ]
  },
  {
   "cell_type": "code",
   "execution_count": 9,
   "metadata": {},
   "outputs": [],
   "source": [
    "ana360 = pd.read_csv('./web_scrapers/analytical360/results.csv')"
   ]
  },
  {
   "cell_type": "code",
   "execution_count": 10,
   "metadata": {},
   "outputs": [],
   "source": [
    "psilabs = pd.read_csv('./web_scrapers/psilabs/results.csv')"
   ]
  },
  {
   "cell_type": "code",
   "execution_count": 11,
   "metadata": {},
   "outputs": [],
   "source": [
    "sclabs = pd.read_csv('./web_scrapers/sclabs/results.csv')"
   ]
  },
  {
   "cell_type": "code",
   "execution_count": 15,
   "metadata": {},
   "outputs": [
    {
     "name": "stdout",
     "output_type": "stream",
     "text": [
      "ana360 <class 'str'>\n",
      "psilabs <class 'str'>\n",
      "sclabs <class 'str'>\n"
     ]
    }
   ],
   "source": [
    "dataframe_dict = {'ana360': ana360, 'psilabs': psilabs, 'sclabs': sclabs}\n",
    "df = process_dataframes(dataframe_dict)"
   ]
  },
  {
   "cell_type": "code",
   "execution_count": 20,
   "metadata": {},
   "outputs": [
    {
     "data": {
      "text/plain": [
       "(47, 46, 46, 47, 46, 46)"
      ]
     },
     "execution_count": 20,
     "metadata": {},
     "output_type": "execute_result"
    }
   ],
   "source": [
    "print(df.shape)\n",
    "df.head()"
   ]
  },
  {
   "cell_type": "code",
   "execution_count": null,
   "metadata": {},
   "outputs": [],
   "source": []
  }
 ],
 "metadata": {
  "kernelspec": {
   "display_name": "Python 3",
   "language": "python",
   "name": "python3"
  },
  "language_info": {
   "codemirror_mode": {
    "name": "ipython",
    "version": 3
   },
   "file_extension": ".py",
   "mimetype": "text/x-python",
   "name": "python",
   "nbconvert_exporter": "python",
   "pygments_lexer": "ipython3",
   "version": "3.7.4"
  }
 },
 "nbformat": 4,
 "nbformat_minor": 4
}
