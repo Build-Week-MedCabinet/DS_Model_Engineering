{
 "cells": [
  {
   "cell_type": "code",
   "execution_count": 2,
   "metadata": {},
   "outputs": [],
   "source": [
    "import csv, sqlite3\n",
    "import pandas as pd\n",
    "import pickle"
   ]
  },
  {
   "cell_type": "code",
   "execution_count": null,
   "metadata": {},
   "outputs": [],
   "source": [
    "import pandas as pd\n",
    "from sklearn.feature_extraction.text import TfidfVectorizer"
   ]
  },
  {
   "cell_type": "code",
   "execution_count": 3,
   "metadata": {},
   "outputs": [],
   "source": [
    "# Make sure this is the CSV for the API\n",
    "df = pd.read_csv('full_cannabis_descriptions_index.csv')"
   ]
  },
  {
   "cell_type": "code",
   "execution_count": 5,
   "metadata": {},
   "outputs": [],
   "source": [
    "# Import model and Vectorizer\n",
    "nn = pickle.load(open(\"../models/knn_05.pkl\", 'rb'))\n",
    "tfidf = pickle.load(open(\"../models/vectorizer_05.pkl\", \"rb\"))"
   ]
  },
  {
   "cell_type": "code",
   "execution_count": 6,
   "metadata": {},
   "outputs": [],
   "source": [
    "# Create a fake weed review\n",
    "fake_input = \"\"\"nice cherry is an indica-dominant strain that captures the flavorful qualities of its cherry parent and the relaxing attributes of mr. nice. with an aroma of sweet skunk, pine, and berry, nice cherry delivers a rush of cerebral energy that lifts the mood while relaxing the body. \n",
    "it’ll also bring an edge back to your appetite while providing focus to keep you productive.\"\"\""
   ]
  },
  {
   "cell_type": "code",
   "execution_count": 27,
   "metadata": {},
   "outputs": [],
   "source": [
    "def get_5_recommendations(request):\n",
    "    # Transform\n",
    "    request = pd.Series(request)\n",
    "    request_sparse = tfidf.transform(request)\n",
    "\n",
    "    # Send to df\n",
    "    request_tfidf = pd.DataFrame(request_sparse.todense())\n",
    "\n",
    "    # Return a list of indexes\n",
    "    top5_i = nn.kneighbors([request_tfidf][0], n_neighbors=5)[1][0].tolist()\n",
    "    top5 = [df['index'].iloc[i] for i in top5_i]\n",
    "    \n",
    "    return top5"
   ]
  },
  {
   "cell_type": "code",
   "execution_count": 28,
   "metadata": {},
   "outputs": [],
   "source": [
    "# Test request function\n",
    "top5 = get_5_recommendations(fake_input)"
   ]
  },
  {
   "cell_type": "code",
   "execution_count": 29,
   "metadata": {
    "scrolled": true
   },
   "outputs": [
    {
     "data": {
      "text/plain": [
       "[1458, 1703, 507, 505, 504]"
      ]
     },
     "execution_count": 29,
     "metadata": {},
     "output_type": "execute_result"
    }
   ],
   "source": [
    "top5"
   ]
  },
  {
   "cell_type": "markdown",
   "metadata": {},
   "source": [
    "## Database"
   ]
  },
  {
   "cell_type": "code",
   "execution_count": 30,
   "metadata": {},
   "outputs": [],
   "source": [
    "con = sqlite3.connect(\"med_cabinet_index.db\")\n",
    "cur = con.cursor()"
   ]
  },
  {
   "cell_type": "code",
   "execution_count": 39,
   "metadata": {},
   "outputs": [],
   "source": [
    "test = \"\"\"SELECT * FROM strains WHERE i = 1423;\"\"\""
   ]
  },
  {
   "cell_type": "code",
   "execution_count": 40,
   "metadata": {},
   "outputs": [
    {
     "data": {
      "text/plain": [
       "[(1423,\n",
       "  'morning-glory',\n",
       "  'hybrid',\n",
       "  4.9,\n",
       "  'creative,energetic,happy,aroused,uplifted',\n",
       "  'citrus,pepper,lime',\n",
       "  'morning glory by barney’s farm is a sativa-dominant hybrid steeped in fundamental genetics. morning glory is a cross of afghani, hawaiian, and skunk, and inherits flavorful terpenes from each parent. this strain’s aroma has been described as spicy with notes of lemon and sandalwood. the plant grows fat, resinous colas ideal for extraction while the overall plant structure remains manageable. morning glory’s stimulating physical effects and conversent mental state make it a perfect cut to enjoy amongst friends.\\\\xa0',\n",
       "  'morning-glory hybrid creative,energetic,happy,aroused,uplifted citrus,pepper,lime morning glory by barney’s farm is a sativa-dominant hybrid steeped in fundamental genetics. morning glory is a cross of afghani, hawaiian, and skunk, and inherits flavorful terpenes from each parent. this strain’s aroma has been described as spicy with notes of lemon and sandalwood. the plant grows fat, resinous colas ideal for extraction while the overall plant structure remains manageable. morning glory’s stimulating physical effects and conversent mental state make it a perfect cut to enjoy amongst friends.\\\\xa0')]"
      ]
     },
     "execution_count": 40,
     "metadata": {},
     "output_type": "execute_result"
    }
   ],
   "source": [
    "cur.execute(test)\n",
    "cur.fetchall()"
   ]
  }
 ],
 "metadata": {
  "kernelspec": {
   "display_name": "Python 3",
   "language": "python",
   "name": "python3"
  },
  "language_info": {
   "codemirror_mode": {
    "name": "ipython",
    "version": 3
   },
   "file_extension": ".py",
   "mimetype": "text/x-python",
   "name": "python",
   "nbconvert_exporter": "python",
   "pygments_lexer": "ipython3",
   "version": "3.7.3"
  }
 },
 "nbformat": 4,
 "nbformat_minor": 2
}
