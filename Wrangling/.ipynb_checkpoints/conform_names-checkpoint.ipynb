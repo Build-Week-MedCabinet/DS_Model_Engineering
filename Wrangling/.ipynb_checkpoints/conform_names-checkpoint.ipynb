{
 "cells": [
  {
   "cell_type": "code",
   "execution_count": 1,
   "metadata": {},
   "outputs": [],
   "source": [
    "import pandas as pd\n",
    "import re"
   ]
  },
  {
   "cell_type": "code",
   "execution_count": 2,
   "metadata": {},
   "outputs": [],
   "source": [
    "def remove_strain(name):\n",
    "    \"\"\"Temp function to remove excess word 'strain'\"\"\"\n",
    "    return re.sub(r'Strain$', '', name)"
   ]
  },
  {
   "cell_type": "code",
   "execution_count": 3,
   "metadata": {},
   "outputs": [],
   "source": [
    "def conform_names(name):\n",
    "    \"\"\"Standardize names of strains across data sets\"\"\"\n",
    "    \n",
    "    # change any upper case letters to lower case\n",
    "    name = name.lower()\n",
    "    \n",
    "    # strip out text enclosed in brackets, parantheses, or quotes\n",
    "    brackets = r'[\\[({<].*?[\\])}>]'\n",
    "    name = re.sub(brackets, '', name)\n",
    "    \n",
    "    # remove characters that are not letters, numbers, spaces, hyphens, or underscores\n",
    "    drop = r'[^a-z0-9 _-]'\n",
    "    name = re.sub(drop, '', name)\n",
    "    \n",
    "    # replace hyphens and underscores with spaces\n",
    "    name = re.sub(r'[_-]', ' ', name)\n",
    "    \n",
    "    # split string on spaces and rejoin with hypens\n",
    "    name = '-'.join(name.split())\n",
    "    \n",
    "    return name\n",
    "    \n",
    "    "
   ]
  },
  {
   "cell_type": "code",
   "execution_count": 4,
   "metadata": {},
   "outputs": [],
   "source": [
    "kag = pd.read_csv('./raw_data/cannabis.csv')"
   ]
  },
  {
   "cell_type": "code",
   "execution_count": 5,
   "metadata": {},
   "outputs": [],
   "source": [
    "kag['strain'] = kag['Strain'].apply(conform_names)"
   ]
  },
  {
   "cell_type": "code",
   "execution_count": 6,
   "metadata": {},
   "outputs": [],
   "source": [
    "kag.to_csv('./raw_data/cannabis_kaggle.csv', index=False)"
   ]
  },
  {
   "cell_type": "code",
   "execution_count": 7,
   "metadata": {},
   "outputs": [],
   "source": [
    "ana = pd.read_csv('./web_scrapers/analytical360/results.csv')"
   ]
  },
  {
   "cell_type": "code",
   "execution_count": 8,
   "metadata": {},
   "outputs": [],
   "source": [
    "ana['strain'] = ana['Sample Name'].apply(conform_names)"
   ]
  },
  {
   "cell_type": "code",
   "execution_count": 9,
   "metadata": {},
   "outputs": [],
   "source": [
    "ana.to_csv('./web_scrapers/analytical360/results_analytical360.csv', index=False)"
   ]
  },
  {
   "cell_type": "code",
   "execution_count": 10,
   "metadata": {},
   "outputs": [],
   "source": [
    "psi = pd.read_csv('./web_scrapers/psilabs/results.csv')"
   ]
  },
  {
   "cell_type": "code",
   "execution_count": 11,
   "metadata": {},
   "outputs": [],
   "source": [
    "psi['strain'] = psi['Sample Name'].apply(conform_names)"
   ]
  },
  {
   "cell_type": "code",
   "execution_count": 12,
   "metadata": {},
   "outputs": [],
   "source": [
    "psi.to_csv('./web_scrapers/psilabs/results_psilabs.csv', index=False)"
   ]
  },
  {
   "cell_type": "code",
   "execution_count": 13,
   "metadata": {},
   "outputs": [],
   "source": [
    "scl = pd.read_csv('./web_scrapers/sclabs/results.csv')"
   ]
  },
  {
   "cell_type": "code",
   "execution_count": 14,
   "metadata": {},
   "outputs": [],
   "source": [
    "scl['strain'] = scl['Sample Name'].apply(conform_names)"
   ]
  },
  {
   "cell_type": "code",
   "execution_count": 15,
   "metadata": {},
   "outputs": [],
   "source": [
    "scl.to_csv('./web_scrapers/sclabs/results_sclabs.csv', index=False)"
   ]
  },
  {
   "cell_type": "code",
   "execution_count": 34,
   "metadata": {},
   "outputs": [],
   "source": [
    "allbuds = pd.read_csv('./web_scrapers/scrapy_morereviews_images/allbuds_strain_data.csv', names=['name', 'desc'])"
   ]
  },
  {
   "cell_type": "code",
   "execution_count": 35,
   "metadata": {},
   "outputs": [],
   "source": [
    "# temp cell until new scrapping of allbuds\n",
    "allbuds['name'] = allbuds['name'].apply(remove_strain)"
   ]
  },
  {
   "cell_type": "code",
   "execution_count": 36,
   "metadata": {},
   "outputs": [],
   "source": [
    "allbuds['strain'] = allbuds['name'].apply(conform_names)"
   ]
  },
  {
   "cell_type": "code",
   "execution_count": 37,
   "metadata": {},
   "outputs": [],
   "source": [
    "allbuds.to_csv('./web_scrapers/scrapy_morereviews_images/allbuds_rename_data.csv', index=False)"
   ]
  },
  {
   "cell_type": "code",
   "execution_count": 43,
   "metadata": {},
   "outputs": [],
   "source": [
    "kag_1 = pd.read_csv('./raw_data/cannabis_kaggle.csv')"
   ]
  },
  {
   "cell_type": "code",
   "execution_count": 44,
   "metadata": {},
   "outputs": [],
   "source": [
    "ana_1 = pd.read_csv('./web_scrapers/analytical360/results_analytical360.csv')"
   ]
  },
  {
   "cell_type": "code",
   "execution_count": 51,
   "metadata": {},
   "outputs": [],
   "source": [
    "psi_1 = pd.read_csv('./web_scrapers/psilabs/results_psilabs.csv')"
   ]
  },
  {
   "cell_type": "code",
   "execution_count": 45,
   "metadata": {},
   "outputs": [],
   "source": [
    "scl_1 = pd.read_csv('./web_scrapers/sclabs/results_sclabs.csv')"
   ]
  },
  {
   "cell_type": "code",
   "execution_count": 46,
   "metadata": {},
   "outputs": [],
   "source": [
    "all_1 = pd.read_csv('./web_scrapers/scrapy_morereviews_images/allbuds_rename_data.csv')"
   ]
  },
  {
   "cell_type": "code",
   "execution_count": 52,
   "metadata": {},
   "outputs": [
    {
     "data": {
      "text/plain": [
       "(2350, 18197, 2485, 4343, 5446)"
      ]
     },
     "execution_count": 52,
     "metadata": {},
     "output_type": "execute_result"
    }
   ],
   "source": [
    "len(set(kag_1['strain'])), len(set(ana_1['strain'])), len(set(psi_1['strain'])), len(set(scl_1['strain'])), len(set(all_1['strain']))"
   ]
  },
  {
   "cell_type": "code",
   "execution_count": 56,
   "metadata": {},
   "outputs": [],
   "source": [
    "datasets = [set(kag_1['strain']), set(ana_1['strain']), set(psi_1['strain']), set(scl_1['strain']), set(all_1['strain'])]"
   ]
  },
  {
   "cell_type": "code",
   "execution_count": 57,
   "metadata": {},
   "outputs": [],
   "source": [
    "all_names = set.union(*datasets)"
   ]
  },
  {
   "cell_type": "code",
   "execution_count": 58,
   "metadata": {},
   "outputs": [
    {
     "data": {
      "text/plain": [
       "28126"
      ]
     },
     "execution_count": 58,
     "metadata": {},
     "output_type": "execute_result"
    }
   ],
   "source": [
    "len(all_names)"
   ]
  },
  {
   "cell_type": "code",
   "execution_count": 60,
   "metadata": {},
   "outputs": [
    {
     "data": {
      "text/plain": [
       "32821"
      ]
     },
     "execution_count": 60,
     "metadata": {},
     "output_type": "execute_result"
    }
   ],
   "source": [
    "sum([len(set(kag_1['strain'])), len(set(ana_1['strain'])), len(set(psi_1['strain'])), len(set(scl_1['strain'])), len(set(all_1['strain']))])"
   ]
  },
  {
   "cell_type": "code",
   "execution_count": 61,
   "metadata": {},
   "outputs": [
    {
     "data": {
      "text/plain": [
       "50816"
      ]
     },
     "execution_count": 61,
     "metadata": {},
     "output_type": "execute_result"
    }
   ],
   "source": [
    "sum([len(kag_1['strain']), len(ana_1['strain']), len(psi_1['strain']), len(scl_1['strain']), len(all_1['strain'])])"
   ]
  },
  {
   "cell_type": "code",
   "execution_count": null,
   "metadata": {},
   "outputs": [],
   "source": []
  }
 ],
 "metadata": {
  "kernelspec": {
   "display_name": "Python 3",
   "language": "python",
   "name": "python3"
  },
  "language_info": {
   "codemirror_mode": {
    "name": "ipython",
    "version": 3
   },
   "file_extension": ".py",
   "mimetype": "text/x-python",
   "name": "python",
   "nbconvert_exporter": "python",
   "pygments_lexer": "ipython3",
   "version": "3.7.4"
  }
 },
 "nbformat": 4,
 "nbformat_minor": 4
}
