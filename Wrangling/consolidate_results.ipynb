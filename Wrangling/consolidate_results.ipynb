{
 "cells": [
  {
   "cell_type": "code",
   "execution_count": 1,
   "metadata": {},
   "outputs": [],
   "source": [
    "import pandas as pd\n",
    "import re"
   ]
  },
  {
   "cell_type": "code",
   "execution_count": 2,
   "metadata": {},
   "outputs": [],
   "source": [
    "def remove_strain(name):\n",
    "    \"\"\"Temp function to remove excess word 'strain'\"\"\"\n",
    "    return re.sub(r'Strain$', '', name)"
   ]
  },
  {
   "cell_type": "code",
   "execution_count": 3,
   "metadata": {},
   "outputs": [],
   "source": [
    "def conform_names(name):\n",
    "    \"\"\"Standardize names of strains across data sets\"\"\"\n",
    "    \n",
    "    # change any upper case letters to lower case\n",
    "    name = name.lower()\n",
    "    \n",
    "    # strip out text enclosed in brackets, parantheses, or quotes\n",
    "    brackets = r'[\\[({<].*?[\\])}>]'\n",
    "    name = re.sub(brackets, '', name)\n",
    "    \n",
    "    # remove characters that are not letters, numbers, spaces, hyphens, or underscores\n",
    "    drop = r'[^a-z0-9 _-]'\n",
    "    name = re.sub(drop, '', name)\n",
    "    \n",
    "    # replace hyphens and underscores with spaces\n",
    "    name = re.sub(r'[_-]', ' ', name)\n",
    "    \n",
    "    # split string on spaces and rejoin with hypens\n",
    "    name = '-'.join(name.split())\n",
    "    \n",
    "    return name\n",
    "    \n",
    "    "
   ]
  },
  {
   "cell_type": "code",
   "execution_count": null,
   "metadata": {},
   "outputs": [],
   "source": [
    "def add_source(df, source):\n",
    "    \"\"\"Add columns indictating the lab the data came from\"\"\"\n",
    "    df['ana360'] = source == 'ana360'\n",
    "    df['psilabs'] = source == 'psilabs'\n",
    "    df['sclabs'] = source == 'sclabs'"
   ]
  },
  {
   "cell_type": "markdown",
   "metadata": {},
   "source": [
    "### Add a conformed name column to each csv file as well as source columns"
   ]
  },
  {
   "cell_type": "code",
   "execution_count": 7,
   "metadata": {},
   "outputs": [],
   "source": [
    "ana360 = pd.read_csv('./web_scrapers/analytical360/results.csv')"
   ]
  },
  {
   "cell_type": "code",
   "execution_count": 10,
   "metadata": {},
   "outputs": [],
   "source": [
    "psilabs = pd.read_csv('./web_scrapers/psilabs/results.csv')"
   ]
  },
  {
   "cell_type": "code",
   "execution_count": 11,
   "metadata": {},
   "outputs": [],
   "source": [
    "sclabs = pd.read_csv('./web_scrapers/sclabs/results.csv')"
   ]
  },
  {
   "cell_type": "code",
   "execution_count": null,
   "metadata": {},
   "outputs": [],
   "source": [
    "for dataframe in [ana360, psilabs, sclabs]:\n",
    "    dataframe = add_source(dataframe, )"
   ]
  },
  {
   "cell_type": "code",
   "execution_count": null,
   "metadata": {},
   "outputs": [],
   "source": []
  }
 ],
 "metadata": {
  "kernelspec": {
   "display_name": "Python 3",
   "language": "python",
   "name": "python3"
  },
  "language_info": {
   "codemirror_mode": {
    "name": "ipython",
    "version": 3
   },
   "file_extension": ".py",
   "mimetype": "text/x-python",
   "name": "python",
   "nbconvert_exporter": "python",
   "pygments_lexer": "ipython3",
   "version": "3.7.4"
  }
 },
 "nbformat": 4,
 "nbformat_minor": 4
}
