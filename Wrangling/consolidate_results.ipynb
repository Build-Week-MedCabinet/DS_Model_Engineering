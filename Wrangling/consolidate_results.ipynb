{
 "cells": [
  {
   "cell_type": "code",
   "execution_count": 1,
   "metadata": {},
   "outputs": [],
   "source": [
    "import pandas as pd\n",
    "import re"
   ]
  },
  {
   "cell_type": "code",
   "execution_count": 2,
   "metadata": {},
   "outputs": [],
   "source": [
    "def add_source(df, source):\n",
    "    \"\"\"Add columns indictating the lab the data came from\"\"\"\n",
    "    dataframe = df.copy()\n",
    "    dataframe['ana360'] = int(source == 'ana360')\n",
    "    dataframe['psilabs'] = int(source == 'psilabs')\n",
    "    dataframe['sclabs'] = int(source == 'sclabs')\n",
    "    return dataframe"
   ]
  },
  {
   "cell_type": "code",
   "execution_count": 3,
   "metadata": {},
   "outputs": [],
   "source": [
    "def drop_columns(df):\n",
    "    \"\"\"Drop columns other than name that do not have numeric values that can be averaged\"\"\"\n",
    "    drops = ['Test Result UID', 'Sample Type', 'Receipt Time', 'Test Time', 'Provider']\n",
    "    if 'Post Time' in df.columns:\n",
    "        drops = drops + ['Post Time']\n",
    "    return df.drop(columns=drops)"
   ]
  },
  {
   "cell_type": "code",
   "execution_count": 4,
   "metadata": {},
   "outputs": [],
   "source": [
    "def conform_names(name):\n",
    "    \"\"\"Standardize names of strains across data sets\"\"\"\n",
    "    \n",
    "    # change any upper case letters to lower case\n",
    "    name = name.lower()\n",
    "    \n",
    "    # strip out text enclosed in brackets, parantheses, or quotes\n",
    "    brackets = r'[\\[({<].*?[\\])}>]'\n",
    "    name = re.sub(brackets, '', name)\n",
    "    \n",
    "    # remove characters that are not letters, numbers, spaces, hyphens, or underscores\n",
    "    drop = r'[^a-z0-9 _-]'\n",
    "    name = re.sub(drop, '', name)\n",
    "    \n",
    "    # replace hyphens and underscores with spaces\n",
    "    name = re.sub(r'[_-]', ' ', name)\n",
    "    \n",
    "    # split string on spaces and rejoin with hypens\n",
    "    name = '-'.join(name.split())\n",
    "    \n",
    "    return name\n",
    "    \n",
    "    "
   ]
  },
  {
   "cell_type": "code",
   "execution_count": 17,
   "metadata": {},
   "outputs": [],
   "source": [
    "def process_dataframes(data_dict):\n",
    "    \"\"\"\n",
    "    Process and append dataframes into one dataframe.\n",
    "    data_dict pairs are a key that is the string of the dataframe variable name\n",
    "    and value of the dataframe variable.\n",
    "    \"\"\"\n",
    "    for source, dataframe in data_dict.items():\n",
    "        dataframe = add_source(dataframe, source)\n",
    "        dataframe = drop_columns(dataframe)\n",
    "        dataframe['Sample Name'] = dataframe['Sample Name'].apply(conform_names)\n",
    "        dataframe.rename(columns={'Sample Name': 'strain'})\n",
    "        \n",
    "    return pd.concat(data_dict, sort=False)"
   ]
  },
  {
   "cell_type": "markdown",
   "metadata": {},
   "source": [
    "### Create dataframes and process them to a single dataframe"
   ]
  },
  {
   "cell_type": "code",
   "execution_count": 6,
   "metadata": {},
   "outputs": [],
   "source": [
    "ana360 = pd.read_csv('./web_scrapers/analytical360/results.csv')"
   ]
  },
  {
   "cell_type": "code",
   "execution_count": 7,
   "metadata": {},
   "outputs": [],
   "source": [
    "psilabs = pd.read_csv('./web_scrapers/psilabs/results.csv')"
   ]
  },
  {
   "cell_type": "code",
   "execution_count": 8,
   "metadata": {},
   "outputs": [],
   "source": [
    "sclabs = pd.read_csv('./web_scrapers/sclabs/results.csv')"
   ]
  },
  {
   "cell_type": "code",
   "execution_count": 18,
   "metadata": {},
   "outputs": [],
   "source": [
    "dataframe_dict = {'ana360': ana360, 'psilabs': psilabs, 'sclabs': sclabs}\n",
    "df = process_dataframes(dataframe_dict)"
   ]
  },
  {
   "cell_type": "code",
   "execution_count": 21,
   "metadata": {},
   "outputs": [
    {
     "name": "stdout",
     "output_type": "stream",
     "text": [
      "(43016, 47)\n"
     ]
    },
    {
     "data": {
      "text/html": [
       "<div>\n",
       "<style scoped>\n",
       "    .dataframe tbody tr th:only-of-type {\n",
       "        vertical-align: middle;\n",
       "    }\n",
       "\n",
       "    .dataframe tbody tr th {\n",
       "        vertical-align: top;\n",
       "    }\n",
       "\n",
       "    .dataframe thead th {\n",
       "        text-align: right;\n",
       "    }\n",
       "</style>\n",
       "<table border=\"1\" class=\"dataframe\">\n",
       "  <thead>\n",
       "    <tr style=\"text-align: right;\">\n",
       "      <th></th>\n",
       "      <th></th>\n",
       "      <th>Test Result UID</th>\n",
       "      <th>Sample Name</th>\n",
       "      <th>Sample Type</th>\n",
       "      <th>Receipt Time</th>\n",
       "      <th>Test Time</th>\n",
       "      <th>Post Time</th>\n",
       "      <th>Provider</th>\n",
       "      <th>cis-Nerolidol</th>\n",
       "      <th>trans-Nerolidol</th>\n",
       "      <th>trans-Nerolidol 1</th>\n",
       "      <th>...</th>\n",
       "      <th>THCV</th>\n",
       "      <th>CBN</th>\n",
       "      <th>CBD-A</th>\n",
       "      <th>CBD</th>\n",
       "      <th>CBDV</th>\n",
       "      <th>CBDV-A</th>\n",
       "      <th>delta-9 CBG-A</th>\n",
       "      <th>delta-9 CBG</th>\n",
       "      <th>CBC</th>\n",
       "      <th>Moisture Content</th>\n",
       "    </tr>\n",
       "  </thead>\n",
       "  <tbody>\n",
       "    <tr>\n",
       "      <td rowspan=\"5\" valign=\"top\">ana360</td>\n",
       "      <td>0</td>\n",
       "      <td>NaN</td>\n",
       "      <td>BHO Blackberry 22</td>\n",
       "      <td>Archived</td>\n",
       "      <td>NaN</td>\n",
       "      <td>NaN</td>\n",
       "      <td>2013-08-19</td>\n",
       "      <td>NaN</td>\n",
       "      <td>NaN</td>\n",
       "      <td>NaN</td>\n",
       "      <td>NaN</td>\n",
       "      <td>...</td>\n",
       "      <td>NaN</td>\n",
       "      <td>NaN</td>\n",
       "      <td>NaN</td>\n",
       "      <td>NaN</td>\n",
       "      <td>NaN</td>\n",
       "      <td>NaN</td>\n",
       "      <td>0.08</td>\n",
       "      <td>NaN</td>\n",
       "      <td>NaN</td>\n",
       "      <td>NaN</td>\n",
       "    </tr>\n",
       "    <tr>\n",
       "      <td>1</td>\n",
       "      <td>NaN</td>\n",
       "      <td>BHO The Sour Bud</td>\n",
       "      <td>Archived</td>\n",
       "      <td>NaN</td>\n",
       "      <td>NaN</td>\n",
       "      <td>2013-08-19</td>\n",
       "      <td>NaN</td>\n",
       "      <td>NaN</td>\n",
       "      <td>NaN</td>\n",
       "      <td>NaN</td>\n",
       "      <td>...</td>\n",
       "      <td>NaN</td>\n",
       "      <td>NaN</td>\n",
       "      <td>NaN</td>\n",
       "      <td>NaN</td>\n",
       "      <td>NaN</td>\n",
       "      <td>NaN</td>\n",
       "      <td>0.75</td>\n",
       "      <td>0.34</td>\n",
       "      <td>NaN</td>\n",
       "      <td>NaN</td>\n",
       "    </tr>\n",
       "    <tr>\n",
       "      <td>2</td>\n",
       "      <td>NaN</td>\n",
       "      <td>Northern Lights</td>\n",
       "      <td>Archived</td>\n",
       "      <td>NaN</td>\n",
       "      <td>NaN</td>\n",
       "      <td>2013-08-19</td>\n",
       "      <td>2.0</td>\n",
       "      <td>NaN</td>\n",
       "      <td>NaN</td>\n",
       "      <td>NaN</td>\n",
       "      <td>...</td>\n",
       "      <td>NaN</td>\n",
       "      <td>NaN</td>\n",
       "      <td>NaN</td>\n",
       "      <td>NaN</td>\n",
       "      <td>NaN</td>\n",
       "      <td>NaN</td>\n",
       "      <td>0.66</td>\n",
       "      <td>0.05</td>\n",
       "      <td>NaN</td>\n",
       "      <td>NaN</td>\n",
       "    </tr>\n",
       "    <tr>\n",
       "      <td>3</td>\n",
       "      <td>NaN</td>\n",
       "      <td>Blueberry Kush</td>\n",
       "      <td>Archived</td>\n",
       "      <td>NaN</td>\n",
       "      <td>NaN</td>\n",
       "      <td>2013-08-19</td>\n",
       "      <td>3.0</td>\n",
       "      <td>NaN</td>\n",
       "      <td>NaN</td>\n",
       "      <td>NaN</td>\n",
       "      <td>...</td>\n",
       "      <td>NaN</td>\n",
       "      <td>0.04</td>\n",
       "      <td>NaN</td>\n",
       "      <td>NaN</td>\n",
       "      <td>NaN</td>\n",
       "      <td>NaN</td>\n",
       "      <td>0.25</td>\n",
       "      <td>0.19</td>\n",
       "      <td>NaN</td>\n",
       "      <td>NaN</td>\n",
       "    </tr>\n",
       "    <tr>\n",
       "      <td>4</td>\n",
       "      <td>NaN</td>\n",
       "      <td>White Dawg</td>\n",
       "      <td>Archived</td>\n",
       "      <td>NaN</td>\n",
       "      <td>NaN</td>\n",
       "      <td>2013-08-19</td>\n",
       "      <td>4.0</td>\n",
       "      <td>NaN</td>\n",
       "      <td>NaN</td>\n",
       "      <td>NaN</td>\n",
       "      <td>...</td>\n",
       "      <td>NaN</td>\n",
       "      <td>NaN</td>\n",
       "      <td>NaN</td>\n",
       "      <td>NaN</td>\n",
       "      <td>NaN</td>\n",
       "      <td>NaN</td>\n",
       "      <td>0.12</td>\n",
       "      <td>0.11</td>\n",
       "      <td>NaN</td>\n",
       "      <td>NaN</td>\n",
       "    </tr>\n",
       "  </tbody>\n",
       "</table>\n",
       "<p>5 rows × 47 columns</p>\n",
       "</div>"
      ],
      "text/plain": [
       "         Test Result UID        Sample Name Sample Type Receipt Time  \\\n",
       "ana360 0             NaN  BHO Blackberry 22    Archived          NaN   \n",
       "       1             NaN   BHO The Sour Bud    Archived          NaN   \n",
       "       2             NaN    Northern Lights    Archived          NaN   \n",
       "       3             NaN     Blueberry Kush    Archived          NaN   \n",
       "       4             NaN         White Dawg    Archived          NaN   \n",
       "\n",
       "         Test Time   Post Time  Provider  cis-Nerolidol  trans-Nerolidol  \\\n",
       "ana360 0       NaN  2013-08-19       NaN            NaN              NaN   \n",
       "       1       NaN  2013-08-19       NaN            NaN              NaN   \n",
       "       2       NaN  2013-08-19       2.0            NaN              NaN   \n",
       "       3       NaN  2013-08-19       3.0            NaN              NaN   \n",
       "       4       NaN  2013-08-19       4.0            NaN              NaN   \n",
       "\n",
       "          trans-Nerolidol 1  ...  THCV   CBN  CBD-A  CBD  CBDV  CBDV-A  \\\n",
       "ana360 0                NaN  ...   NaN   NaN    NaN  NaN   NaN     NaN   \n",
       "       1                NaN  ...   NaN   NaN    NaN  NaN   NaN     NaN   \n",
       "       2                NaN  ...   NaN   NaN    NaN  NaN   NaN     NaN   \n",
       "       3                NaN  ...   NaN  0.04    NaN  NaN   NaN     NaN   \n",
       "       4                NaN  ...   NaN   NaN    NaN  NaN   NaN     NaN   \n",
       "\n",
       "          delta-9 CBG-A  delta-9 CBG  CBC  Moisture Content  \n",
       "ana360 0           0.08          NaN  NaN               NaN  \n",
       "       1           0.75         0.34  NaN               NaN  \n",
       "       2           0.66         0.05  NaN               NaN  \n",
       "       3           0.25         0.19  NaN               NaN  \n",
       "       4           0.12         0.11  NaN               NaN  \n",
       "\n",
       "[5 rows x 47 columns]"
      ]
     },
     "execution_count": 21,
     "metadata": {},
     "output_type": "execute_result"
    }
   ],
   "source": [
    "print(df.shape)\n",
    "df.head()"
   ]
  },
  {
   "cell_type": "code",
   "execution_count": 13,
   "metadata": {},
   "outputs": [
    {
     "data": {
      "text/plain": [
       "(Index(['3-Carene', 'CBC', 'CBD', 'CBD-A', 'CBDV', 'CBDV-A', 'CBN', 'Camphene',\n",
       "        'Caryophyllene Oxide', 'Eucalyptol', 'Geraniol', 'Guaiol', 'Isopulegol',\n",
       "        'Linalool', 'Moisture Content', 'Ocimene', 'Post Time', 'Provider',\n",
       "        'Receipt Time', 'Sample Name', 'Sample Type', 'THC-A', 'THCV',\n",
       "        'Terpinolene', 'Test Result UID', 'Test Time', 'alpha-Bisabolol',\n",
       "        'alpha-Humulene', 'alpha-Pinene', 'alpha-Terpinene',\n",
       "        'beta-Caryophyllene', 'beta-Myrcene', 'beta-Ocimene', 'beta-Pinene',\n",
       "        'cis-Nerolidol', 'delta-8 THC', 'delta-9 CBG', 'delta-9 CBG-A',\n",
       "        'delta-9 THC', 'delta-9 THC-A', 'delta-Limonene', 'gamma-Terpinene',\n",
       "        'p-Cymene', 'trans-Nerolidol', 'trans-Nerolidol 1', 'trans-Nerolidol 2',\n",
       "        'trans-Ocimene'],\n",
       "       dtype='object'), 47)"
      ]
     },
     "execution_count": 13,
     "metadata": {},
     "output_type": "execute_result"
    }
   ],
   "source": [
    "df.columns, len(df.columns)"
   ]
  },
  {
   "cell_type": "code",
   "execution_count": 14,
   "metadata": {},
   "outputs": [
    {
     "data": {
      "text/plain": [
       "Index(['Test Result UID', 'Sample Name', 'Sample Type', 'Receipt Time',\n",
       "       'Test Time', 'Post Time', 'Provider', 'cis-Nerolidol',\n",
       "       'trans-Nerolidol', 'trans-Nerolidol 1', 'trans-Nerolidol 2',\n",
       "       'trans-Ocimene', '3-Carene', 'Camphene', 'Caryophyllene Oxide',\n",
       "       'Eucalyptol', 'Geraniol', 'Guaiol', 'Isopulegol', 'Linalool', 'Ocimene',\n",
       "       'Terpinolene', 'alpha-Bisabolol', 'alpha-Humulene', 'alpha-Pinene',\n",
       "       'alpha-Terpinene', 'beta-Caryophyllene', 'beta-Myrcene', 'beta-Ocimene',\n",
       "       'beta-Pinene', 'delta-Limonene', 'gamma-Terpinene', 'p-Cymene',\n",
       "       'delta-9 THC-A', 'delta-9 THC', 'delta-8 THC', 'THC-A', 'THCV', 'CBN',\n",
       "       'CBD-A', 'CBD', 'CBDV', 'CBDV-A', 'delta-9 CBG-A', 'delta-9 CBG', 'CBC',\n",
       "       'Moisture Content'],\n",
       "      dtype='object')"
      ]
     },
     "execution_count": 14,
     "metadata": {},
     "output_type": "execute_result"
    }
   ],
   "source": [
    "ana360.columns"
   ]
  }
 ],
 "metadata": {
  "kernelspec": {
   "display_name": "Python 3",
   "language": "python",
   "name": "python3"
  },
  "language_info": {
   "codemirror_mode": {
    "name": "ipython",
    "version": 3
   },
   "file_extension": ".py",
   "mimetype": "text/x-python",
   "name": "python",
   "nbconvert_exporter": "python",
   "pygments_lexer": "ipython3",
   "version": "3.7.4"
  }
 },
 "nbformat": 4,
 "nbformat_minor": 4
}
