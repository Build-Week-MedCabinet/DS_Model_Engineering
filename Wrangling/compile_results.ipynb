{
 "cells": [
  {
   "cell_type": "code",
   "execution_count": 1,
   "metadata": {},
   "outputs": [],
   "source": [
    "import pandas as pd\n",
    "import re"
   ]
  },
  {
   "cell_type": "code",
   "execution_count": 2,
   "metadata": {},
   "outputs": [],
   "source": [
    "def add_source(df, source):\n",
    "    \"\"\"Add columns indictating the lab the data came from\"\"\"\n",
    "    dataframe = df.copy()\n",
    "    dataframe['ana360'] = int(source == 'ana360')\n",
    "    dataframe['psilabs'] = int(source == 'psilabs')\n",
    "    dataframe['sclabs'] = int(source == 'sclabs')\n",
    "    return dataframe"
   ]
  },
  {
   "cell_type": "code",
   "execution_count": 3,
   "metadata": {},
   "outputs": [],
   "source": [
    "def drop_columns(df):\n",
    "    \"\"\"Drop columns other than name that do not have numeric values that can be averaged\"\"\"\n",
    "    drops = ['Test Result UID', 'Receipt Time', 'Test Time', 'Provider']\n",
    "    if 'Post Time' in df.columns:\n",
    "        drops = drops + ['Post Time']\n",
    "    return df.drop(columns=drops)"
   ]
  },
  {
   "cell_type": "code",
   "execution_count": 4,
   "metadata": {},
   "outputs": [],
   "source": [
    "def conform_names(name):\n",
    "    \"\"\"Standardize names of strains across data sets\"\"\"\n",
    "    \n",
    "    # change any upper case letters to lower case\n",
    "    name = name.lower()\n",
    "    \n",
    "    # strip out text enclosed in brackets, parantheses, or quotes\n",
    "    brackets = r'[\\[({<].*?[\\])}>]'\n",
    "    name = re.sub(brackets, '', name)\n",
    "    \n",
    "    # remove characters that are not letters, numbers, spaces, hyphens, or underscores\n",
    "    drop = r'[^a-z0-9 _-]'\n",
    "    name = re.sub(drop, '', name)\n",
    "    \n",
    "    # replace hyphens and underscores with spaces\n",
    "    name = re.sub(r'[_-]', ' ', name)\n",
    "    \n",
    "    # split string on spaces and rejoin with hypens\n",
    "    name = '-'.join(name.split())\n",
    "    \n",
    "    return name\n",
    "    \n",
    "    "
   ]
  },
  {
   "cell_type": "code",
   "execution_count": 5,
   "metadata": {},
   "outputs": [],
   "source": [
    "def process_dataframe(dataframe, source):\n",
    "    \"\"\"Process dataframe and rename column\"\"\"\n",
    "    dataframe = add_source(dataframe, source)\n",
    "    dataframe = drop_columns(dataframe)\n",
    "    dataframe['Sample Name'] = dataframe['Sample Name'].apply(conform_names)\n",
    "    dataframe = dataframe.rename(columns={'Sample Name': 'strain'})\n",
    "        \n",
    "    return dataframe"
   ]
  },
  {
   "cell_type": "markdown",
   "metadata": {},
   "source": [
    "### Create dataframes and process them to a single dataframe"
   ]
  },
  {
   "cell_type": "code",
   "execution_count": 6,
   "metadata": {},
   "outputs": [],
   "source": [
    "ana360 = pd.read_csv('./web_scrapers/analytical360/results.csv')\n",
    "ana360 = process_dataframe(ana360, 'ana360')"
   ]
  },
  {
   "cell_type": "code",
   "execution_count": 7,
   "metadata": {},
   "outputs": [],
   "source": [
    "psilabs = pd.read_csv('./web_scrapers/psilabs/results.csv')\n",
    "psilabs = process_dataframe(psilabs, 'psilabs')"
   ]
  },
  {
   "cell_type": "code",
   "execution_count": 8,
   "metadata": {},
   "outputs": [],
   "source": [
    "sclabs = pd.read_csv('./web_scrapers/sclabs/results.csv')\n",
    "sclabs = process_dataframe(sclabs, 'sclabs')"
   ]
  },
  {
   "cell_type": "code",
   "execution_count": 9,
   "metadata": {},
   "outputs": [],
   "source": [
    "df = pd.concat([ana360, psilabs, sclabs])"
   ]
  },
  {
   "cell_type": "code",
   "execution_count": 10,
   "metadata": {},
   "outputs": [],
   "source": [
    "df = df.sort_values(by=['strain'])"
   ]
  },
  {
   "cell_type": "code",
   "execution_count": 11,
   "metadata": {},
   "outputs": [
    {
     "data": {
      "text/html": [
       "<div>\n",
       "<style scoped>\n",
       "    .dataframe tbody tr th:only-of-type {\n",
       "        vertical-align: middle;\n",
       "    }\n",
       "\n",
       "    .dataframe tbody tr th {\n",
       "        vertical-align: top;\n",
       "    }\n",
       "\n",
       "    .dataframe thead th {\n",
       "        text-align: right;\n",
       "    }\n",
       "</style>\n",
       "<table border=\"1\" class=\"dataframe\">\n",
       "  <thead>\n",
       "    <tr style=\"text-align: right;\">\n",
       "      <th></th>\n",
       "      <th>strain</th>\n",
       "      <th>Sample Type</th>\n",
       "      <th>cis-Nerolidol</th>\n",
       "      <th>trans-Nerolidol</th>\n",
       "      <th>trans-Nerolidol 1</th>\n",
       "      <th>trans-Nerolidol 2</th>\n",
       "      <th>trans-Ocimene</th>\n",
       "      <th>3-Carene</th>\n",
       "      <th>Camphene</th>\n",
       "      <th>Caryophyllene Oxide</th>\n",
       "      <th>...</th>\n",
       "      <th>CBD</th>\n",
       "      <th>CBDV</th>\n",
       "      <th>CBDV-A</th>\n",
       "      <th>delta-9 CBG-A</th>\n",
       "      <th>delta-9 CBG</th>\n",
       "      <th>CBC</th>\n",
       "      <th>Moisture Content</th>\n",
       "      <th>ana360</th>\n",
       "      <th>psilabs</th>\n",
       "      <th>sclabs</th>\n",
       "    </tr>\n",
       "  </thead>\n",
       "  <tbody>\n",
       "    <tr>\n",
       "      <td>10379</td>\n",
       "      <td></td>\n",
       "      <td>Archived</td>\n",
       "      <td>NaN</td>\n",
       "      <td>NaN</td>\n",
       "      <td>NaN</td>\n",
       "      <td>NaN</td>\n",
       "      <td>NaN</td>\n",
       "      <td>NaN</td>\n",
       "      <td>NaN</td>\n",
       "      <td>0.47</td>\n",
       "      <td>...</td>\n",
       "      <td>0.01</td>\n",
       "      <td>NaN</td>\n",
       "      <td>NaN</td>\n",
       "      <td>0.24</td>\n",
       "      <td>0.61</td>\n",
       "      <td>0.09</td>\n",
       "      <td>NaN</td>\n",
       "      <td>1</td>\n",
       "      <td>0</td>\n",
       "      <td>0</td>\n",
       "    </tr>\n",
       "    <tr>\n",
       "      <td>4914</td>\n",
       "      <td></td>\n",
       "      <td>Archived</td>\n",
       "      <td>NaN</td>\n",
       "      <td>NaN</td>\n",
       "      <td>NaN</td>\n",
       "      <td>NaN</td>\n",
       "      <td>NaN</td>\n",
       "      <td>NaN</td>\n",
       "      <td>NaN</td>\n",
       "      <td>0.26</td>\n",
       "      <td>...</td>\n",
       "      <td>0.14</td>\n",
       "      <td>NaN</td>\n",
       "      <td>NaN</td>\n",
       "      <td>0.60</td>\n",
       "      <td>0.21</td>\n",
       "      <td>0.05</td>\n",
       "      <td>NaN</td>\n",
       "      <td>1</td>\n",
       "      <td>0</td>\n",
       "      <td>0</td>\n",
       "    </tr>\n",
       "  </tbody>\n",
       "</table>\n",
       "<p>2 rows × 45 columns</p>\n",
       "</div>"
      ],
      "text/plain": [
       "      strain Sample Type  cis-Nerolidol  trans-Nerolidol  trans-Nerolidol 1  \\\n",
       "10379           Archived            NaN              NaN                NaN   \n",
       "4914            Archived            NaN              NaN                NaN   \n",
       "\n",
       "       trans-Nerolidol 2  trans-Ocimene  3-Carene  Camphene  \\\n",
       "10379                NaN            NaN       NaN       NaN   \n",
       "4914                 NaN            NaN       NaN       NaN   \n",
       "\n",
       "       Caryophyllene Oxide  ...   CBD  CBDV  CBDV-A  delta-9 CBG-A  \\\n",
       "10379                 0.47  ...  0.01   NaN     NaN           0.24   \n",
       "4914                  0.26  ...  0.14   NaN     NaN           0.60   \n",
       "\n",
       "       delta-9 CBG   CBC  Moisture Content  ana360  psilabs  sclabs  \n",
       "10379         0.61  0.09               NaN       1        0       0  \n",
       "4914          0.21  0.05               NaN       1        0       0  \n",
       "\n",
       "[2 rows x 45 columns]"
      ]
     },
     "execution_count": 11,
     "metadata": {},
     "output_type": "execute_result"
    }
   ],
   "source": [
    "df[df['strain'].str.strip() == '']"
   ]
  },
  {
   "cell_type": "code",
   "execution_count": 12,
   "metadata": {},
   "outputs": [],
   "source": [
    "# remove rows with missing strain value\n",
    "df = df.drop(df[df['strain'].str.strip() == ''].index, axis=0)"
   ]
  },
  {
   "cell_type": "code",
   "execution_count": 13,
   "metadata": {},
   "outputs": [],
   "source": [
    "df.to_csv('./Intermediate_data/results_compiled.csv', index=False)"
   ]
  }
 ],
 "metadata": {
  "kernelspec": {
   "display_name": "Python 3",
   "language": "python",
   "name": "python3"
  },
  "language_info": {
   "codemirror_mode": {
    "name": "ipython",
    "version": 3
   },
   "file_extension": ".py",
   "mimetype": "text/x-python",
   "name": "python",
   "nbconvert_exporter": "python",
   "pygments_lexer": "ipython3",
   "version": "3.7.4"
  }
 },
 "nbformat": 4,
 "nbformat_minor": 4
}
